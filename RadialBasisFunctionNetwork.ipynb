{
 "cells": [
  {
   "cell_type": "markdown",
   "metadata": {},
   "source": [
    "# k-means Radial Basis Function Neural Network\n",
    "\n",
    "This notebook consists of two section, first one is about implementation. Scala is chosen intentionally since it is perfect fit for this domain, such as, it lets you construct powerful abstractions using its properties like traits, case classes, tail recursions ..etc. Therefore, we could create a machine learning flow that each of its building block is modular. Second topic is inference which explains how we can create a model using unsupervised learning algorithm kmeans and process its output to create supervised learning model which is a radial basis function network with Gaussian Kernel. Once we done with constructing the flow we are going to try different parameters so that we can see a one model that underfit, one that overfit and fit.\n",
    "\n",
    "## Sections\n",
    "\n",
    "- [Implementation](#Implementation)\n",
    "    - [Function Aliases](#Function Aliases)\n",
    "    - [Traits](#Traits)\n",
    "    - [Application](#Application)\n",
    "- [Inference](#Inference)\n",
    "    - [Data](#Data)\n",
    "    - [RMSE on Training and Test Set](#RMSE on Training and Test Set)\n",
    "    - [Chosing Models](#Chosing Models)\n",
    "    - [Visualization](#Visualization)\n",
    "\n",
    "\n",
    "### Implementation\n",
    "\n",
    "Let's start with introducing the abstractions that we are going to use for the rest of the code. "
   ]
  },
  {
   "cell_type": "markdown",
   "metadata": {},
   "source": [
    "#### Function Aliases\n",
    "\n",
    "Since the most granular abstraction is a function, here below we are going to name them based on their actual job in this implementation."
   ]
  },
  {
   "cell_type": "code",
   "execution_count": 1,
   "metadata": {
    "collapsed": false
   },
   "outputs": [
    {
     "data": {
      "text/plain": [
       "defined \u001b[32mtype\u001b[39m \u001b[36mFeatures\u001b[39m\n",
       "defined \u001b[32mtype\u001b[39m \u001b[36mDistanceFunc\u001b[39m\n",
       "defined \u001b[32mtype\u001b[39m \u001b[36mRadialBasisFunction\u001b[39m\n",
       "defined \u001b[32mtype\u001b[39m \u001b[36mClustering\u001b[39m"
      ]
     },
     "execution_count": 1,
     "metadata": {},
     "output_type": "execute_result"
    }
   ],
   "source": [
    "type Features = IndexedSeq[Double]\n",
    "\n",
    "type DistanceFunc = ((IndexedSeq[Double], IndexedSeq[Double]) => Double)\n",
    "type RadialBasisFunction = (IndexedSeq[Double] => Double)\n",
    "type Clustering = () => IndexedSeq[(Features, IndexedSeq[Features])]"
   ]
  },
  {
   "cell_type": "markdown",
   "metadata": {},
   "source": [
    "This definition will let us write more readable code, for example you can read above like this, \n",
    "Distance is a function that takes two point from n-dimensional space spesificed with IndexedSeq's sizes, and produces an output metric that its type is Double. Let's move forward with introducing higher level abstractions like traits.\n"
   ]
  },
  {
   "cell_type": "markdown",
   "metadata": {},
   "source": [
    "#### Traits\n",
    "\n",
    "You can think of a trait as a recipe for doing something, however it is not a something by itself. It is preferable over abstract classes when you want to take advantage of mixin-classes so that you can have reusable behaviours that you can use anytime to add any class that conforms to the protocol that you declare within the trait. An example to this is GradientDescent, it can actually optimize any machine learning algorithm not only neural network or something spesific. For example you can have a regression model and optimize its parameters using Gradient Descent. Here below we define those traits that are useful for this problem."
   ]
  },
  {
   "cell_type": "code",
   "execution_count": 2,
   "metadata": {
    "collapsed": false
   },
   "outputs": [
    {
     "data": {
      "text/plain": [
       "\u001b[32mimport \u001b[39m\u001b[36mMath.{exp,pow,sqrt}\n",
       "\u001b[39m\n",
       "\u001b[32mimport \u001b[39m\u001b[36mscala.annotation.tailrec\n",
       "\u001b[39m\n",
       "\u001b[32mimport \u001b[39m\u001b[36mscala.util.Random\n",
       "\n",
       "\u001b[39m\n",
       "defined \u001b[32mtrait\u001b[39m \u001b[36mOptimizer\u001b[39m\n",
       "defined \u001b[32mtrait\u001b[39m \u001b[36mNeuralNetworkModel\u001b[39m\n",
       "defined \u001b[32mtrait\u001b[39m \u001b[36mEuclideanDistance\u001b[39m\n",
       "defined \u001b[32mtrait\u001b[39m \u001b[36mGradientDescent\u001b[39m\n",
       "defined \u001b[32mtrait\u001b[39m \u001b[36mRadialBasisFunctionNetworkTrait\u001b[39m\n",
       "defined \u001b[32mclass\u001b[39m \u001b[36mKMeans\u001b[39m\n",
       "defined \u001b[32mtype\u001b[39m \u001b[36mErrorFunc\u001b[39m"
      ]
     },
     "execution_count": 2,
     "metadata": {},
     "output_type": "execute_result"
    }
   ],
   "source": [
    "import Math.{exp,pow,sqrt}\n",
    "import scala.annotation.tailrec\n",
    "import scala.util.Random\n",
    "\n",
    "trait Optimizer {\n",
    "  def fit(dataSet: Iterable[(IndexedSeq[Double], IndexedSeq[Double])], learningRate: Double)\n",
    "}\n",
    "trait NeuralNetworkModel extends (IndexedSeq[Double] => IndexedSeq[Double]) {\n",
    "  def getH(input: (IndexedSeq[Double], IndexedSeq[Double])):IndexedSeq[Double]\n",
    "}\n",
    "\n",
    "trait EuclideanDistance extends DistanceFunc {\n",
    "  override def apply(position1: IndexedSeq[Double], position2: IndexedSeq[Double]): Double = {\n",
    "    val sum = position1.zip(position2).map {\n",
    "      case (p1, p2) => \n",
    "        val d = p1 - p2\n",
    "        pow(d,2)\n",
    "    }.sum\n",
    "    sqrt(sum)\n",
    "  }\n",
    "}\n",
    "\n",
    "trait GradientDescent extends Optimizer with NeuralNetworkModel {\n",
    "  val nHidden: Int\n",
    "  val weights: Array[Double]\n",
    "\n",
    "  def fit(trainingData: Iterable[(IndexedSeq[Double], IndexedSeq[Double])], learningRate: Double = 0.1): Unit  = {\n",
    "    for(pair <- trainingData){\n",
    "      val actual = this(pair._1)\n",
    "      val X = getH(pair)\n",
    "      val desired = pair._2\n",
    "      for( outputIndex <- desired.indices) {\n",
    "        val error = desired(outputIndex) - actual(outputIndex)\n",
    "        val update = X.indices.map(i => learningRate * X(i) * error)\n",
    "        X.indices.foreach { i =>\n",
    "          val weightIndex = (nHidden  * outputIndex) + i\n",
    "          weights(weightIndex) = update(i) + weights(weightIndex)\n",
    "        }\n",
    "        //bias term\n",
    "        val weightIndex = (nHidden  * outputIndex) + X.length\n",
    "        weights(weightIndex) = learningRate * error + weights(weightIndex)\n",
    "      }\n",
    "    }\n",
    "  }\n",
    "}\n",
    "\n",
    "trait RadialBasisFunctionNetworkTrait extends NeuralNetworkModel {\n",
    "  val nIn: Int\n",
    "  val nOut: Int\n",
    "  val rbfs: IndexedSeq[RadialBasisFunction]\n",
    "  val nHidden: Int = rbfs.length + 1\n",
    "  val weights: Array[Double] = Array.fill(nHidden * nOut)(scala.math.random)\n",
    "\n",
    "  override def getH(input: (IndexedSeq[Double], IndexedSeq[Double])):IndexedSeq[Double] = {\n",
    "    rbfs.indices.map { i => rbfs(i)(input._1) }\n",
    "  }\n",
    "\n",
    "  override def apply(input: IndexedSeq[Double]): IndexedSeq[Double] = {\n",
    "    for (outputIndex <- 0 until nOut) yield {\n",
    "      val linearCombination = rbfs.indices.map { i => rbfs(i)(input) * weights((nHidden * outputIndex) + i)}\n",
    "      val bias = weights((nHidden * outputIndex) + rbfs.length)\n",
    "      linearCombination.sum + bias\n",
    "    }\n",
    "  }\n",
    "}\n",
    "\n",
    "abstract class KMeans(val seed: Int, val k: Int, val eta: Double, val data: Vector[Features]) extends DistanceFunc with Clustering {\n",
    "  val rand = new Random(seed)\n",
    "  val _data = data\n",
    "  val means: Vector[Features] = (0 until k).map(_ => data(rand.nextInt(data.length))).toVector\n",
    "\n",
    "  def apply(): IndexedSeq[(Features, IndexedSeq[Features])] = {\n",
    "    @tailrec\n",
    "    def _kmeans(means: IndexedSeq[Features]): IndexedSeq[(Features, IndexedSeq[Features])] = {\n",
    "      val newMeans: IndexedSeq[(Features, IndexedSeq[Features])] =\n",
    "        means.map(mean => {\n",
    "          _data.groupBy(p => means.minBy(m => this (m, p))).get(mean) match {\n",
    "            case Some(c) => (c.transpose.map(_.sum).map(x => x / c.length), c)\n",
    "            case _ => (mean, Vector(mean))\n",
    "          }\n",
    "        })\n",
    "      val converged = (means zip newMeans.map(_._1)).forall {\n",
    "        case (oldMean, newMean) => this (oldMean, newMean) <= eta\n",
    "      }\n",
    "      if (!converged) _kmeans(newMeans.map(_._1)) else newMeans\n",
    "    }\n",
    "\n",
    "    _kmeans(means)\n",
    "  }\n",
    "}\n",
    "\n",
    "type ErrorFunc = (NeuralNetworkModel, Iterable[(IndexedSeq[Double], IndexedSeq[Double])]) => Double"
   ]
  },
  {
   "cell_type": "markdown",
   "metadata": {},
   "source": [
    "#### Application\n",
    "We can read the above code for example like this, we have NeuralNetworkModel that takes an input which consists of features as IndexedSeq and produces target values as again IndexedSeq, this is because neural networks can produce multi output like in case of multi-label problems. It defines this behaviour by extending the Function[IndexedSeq[Double],IndexedSeq[Double]] however, it also declares getH in its protocol which means that any class that implements this need to tell how to get hidden values from pair of input and target values.So any preprocessing can be done here. Consider radial basis function neural network, in this case we need to preprocess features by applying gaussian funtion and return them. Once we define this set of behaviours we can define higher-level recipes like gradient descent optimization. We use it for updating weights with back propogation. Abstract class Kmeans is also similar to trait but it needs to be first module that implementing class needs to extend. Once we create Kmeans implementation we can extend it using other traits like EuclideanDistance so that kmeans can use euclidean distance in its internal calculations. By now we are almost done, we defined our abstractions and can define actual classes. In the below we defined cases classes and object to create gaussian function."
   ]
  },
  {
   "cell_type": "code",
   "execution_count": 3,
   "metadata": {
    "collapsed": false
   },
   "outputs": [
    {
     "data": {
      "text/plain": [
       "defined \u001b[32mobject\u001b[39m \u001b[36mGaussianFunction\u001b[39m\n",
       "defined \u001b[32mclass\u001b[39m \u001b[36mGaussianFunction\u001b[39m\n",
       "defined \u001b[32mobject\u001b[39m \u001b[36mRMSE\u001b[39m\n",
       "defined \u001b[32mclass\u001b[39m \u001b[36mKMeansImpl\u001b[39m\n",
       "defined \u001b[32mclass\u001b[39m \u001b[36mRadialBasisFunctionNetwork\u001b[39m"
      ]
     },
     "execution_count": 3,
     "metadata": {},
     "output_type": "execute_result"
    }
   ],
   "source": [
    "object GaussianFunction{\n",
    "  def apply(width: Double, center: IndexedSeq[Double]): GaussianFunction = new GaussianFunction(width, center)\n",
    "  def apply(widthCenterPair: (Double,IndexedSeq[Double])) = new GaussianFunction(widthCenterPair._1,widthCenterPair._2)\n",
    "}\n",
    "\n",
    "class GaussianFunction(width:Double,center: IndexedSeq[Double]) extends RadialBasisFunction {\n",
    "  override def apply(x: IndexedSeq[Double]): Double = exp(-1*x.indices.map(i=>pow(x(i) - center(i), 2) / (2.0 * width * width)).sum)\n",
    "}\n",
    "\n",
    "object RMSE extends ErrorFunc {\n",
    "  //RMSE = sqrt(mean((y-y_pred).^2));\n",
    "  override def apply(model: NeuralNetworkModel, data: Iterable[(IndexedSeq[Double], IndexedSeq[Double])]): Double = {\n",
    "    var length = 1d\n",
    "    val sumOfSquareError = (for {pair <- data.map(_._1).map(model).zip(data.map(_._2))\n",
    "                                 actual = pair._1\n",
    "                                 desired = pair._2\n",
    "    } yield {\n",
    "      length+=1\n",
    "      pow(actual(0) - desired(0), 2)\n",
    "    }).sum\n",
    "    val meanSquareError = sumOfSquareError / length\n",
    "    sqrt(meanSquareError)\n",
    "  }\n",
    "}\n",
    "case class KMeansImpl(override val seed: Int,override val k: Int,override val eta: Double,override val data: Vector[Features]) extends KMeans(seed, k, eta , data)\n",
    "        with EuclideanDistance\n",
    "\n",
    "case class RadialBasisFunctionNetwork(nIn: Int, nOut: Int, rbfs: IndexedSeq[RadialBasisFunction]) \n",
    "     extends RadialBasisFunctionNetworkTrait\n",
    "     with GradientDescent\n"
   ]
  },
  {
   "cell_type": "markdown",
   "metadata": {},
   "source": [
    "We are all set one last thing is to load the data. Below we load file by using Scala's utility class scala.io.Source and process file read by line with regex."
   ]
  },
  {
   "cell_type": "code",
   "execution_count": 4,
   "metadata": {
    "collapsed": false
   },
   "outputs": [
    {
     "data": {
      "text/plain": [
       "\u001b[32mimport \u001b[39m\u001b[36mjava.io.File\n",
       "\u001b[39m\n",
       "\u001b[36mnumberPattern\u001b[39m: \u001b[32mutil\u001b[39m.\u001b[32mmatching\u001b[39m.\u001b[32mRegex\u001b[39m = ([-+]?[0-9]*\\.?[0-9]+[eE][-+]?[0-9]+)?\n",
       "\u001b[36mdataPath\u001b[39m: \u001b[32mjava\u001b[39m.\u001b[32mio\u001b[39m.\u001b[32mFile\u001b[39m = /home/foreks/git/rbf-nn/data\n",
       "defined \u001b[32mfunction\u001b[39m \u001b[36mgetData\u001b[39m\n",
       "\u001b[36mtrainingData\u001b[39m: \u001b[32mVector\u001b[39m[(\u001b[32mVector\u001b[39m[\u001b[32mDouble\u001b[39m], \u001b[32mVector\u001b[39m[\u001b[32mDouble\u001b[39m])] = \u001b[33mVector\u001b[39m(\n",
       "  (\u001b[33mVector\u001b[39m(\u001b[32m0.88780483\u001b[39m), \u001b[33mVector\u001b[39m(\u001b[32m7.0887174\u001b[39m)),\n",
       "  (\u001b[33mVector\u001b[39m(\u001b[32m-1.1968985\u001b[39m), \u001b[33mVector\u001b[39m(\u001b[32m-6.6488336\u001b[39m)),\n",
       "  (\u001b[33mVector\u001b[39m(\u001b[32m-0.6805217\u001b[39m), \u001b[33mVector\u001b[39m(\u001b[32m1.3097657\u001b[39m)),\n",
       "  (\u001b[33mVector\u001b[39m(\u001b[32m1.0287499\u001b[39m), \u001b[33mVector\u001b[39m(\u001b[32m-5.4677192\u001b[39m)),\n",
       "  (\u001b[33mVector\u001b[39m(\u001b[32m-2.3360415\u001b[39m), \u001b[33mVector\u001b[39m(\u001b[32m8.879597\u001b[39m)),\n",
       "  (\u001b[33mVector\u001b[39m(\u001b[32m2.0833673\u001b[39m), \u001b[33mVector\u001b[39m(\u001b[32m0.5759764\u001b[39m)),\n",
       "  (\u001b[33mVector\u001b[39m(\u001b[32m2.7345112\u001b[39m), \u001b[33mVector\u001b[39m(\u001b[32m6.9868772\u001b[39m)),\n",
       "  (\u001b[33mVector\u001b[39m(\u001b[32m-1.3309695\u001b[39m), \u001b[33mVector\u001b[39m(\u001b[32m-14.2752\u001b[39m)),\n",
       "  (\u001b[33mVector\u001b[39m(\u001b[32m-1.3367205\u001b[39m), \u001b[33mVector\u001b[39m(\u001b[32m-25.496883\u001b[39m)),\n",
       "  (\u001b[33mVector\u001b[39m(\u001b[32m1.2805311\u001b[39m), \u001b[33mVector\u001b[39m(\u001b[32m2.4558209\u001b[39m)),\n",
       "  (\u001b[33mVector\u001b[39m(\u001b[32m1.4816721\u001b[39m), \u001b[33mVector\u001b[39m(\u001b[32m-0.01585057\u001b[39m)),\n",
       "\u001b[33m...\u001b[39m\n",
       "\u001b[36mtestData\u001b[39m: \u001b[32mVector\u001b[39m[(\u001b[32mVector\u001b[39m[\u001b[32mDouble\u001b[39m], \u001b[32mVector\u001b[39m[\u001b[32mDouble\u001b[39m])] = \u001b[33mVector\u001b[39m(\n",
       "  (\u001b[33mVector\u001b[39m(\u001b[32m1.98015\u001b[39m), \u001b[33mVector\u001b[39m(\u001b[32m-6.7806596\u001b[39m)),\n",
       "  (\u001b[33mVector\u001b[39m(\u001b[32m-2.8219563\u001b[39m), \u001b[33mVector\u001b[39m(\u001b[32m19.451004\u001b[39m)),\n",
       "  (\u001b[33mVector\u001b[39m(\u001b[32m-2.0240151\u001b[39m), \u001b[33mVector\u001b[39m(\u001b[32m-8.6291743\u001b[39m)),\n",
       "  (\u001b[33mVector\u001b[39m(\u001b[32m2.1564677\u001b[39m), \u001b[33mVector\u001b[39m(\u001b[32m-1.133289\u001b[39m)),\n",
       "  (\u001b[33mVector\u001b[39m(\u001b[32m2.918494\u001b[39m), \u001b[33mVector\u001b[39m(\u001b[32m16.647087\u001b[39m)),\n",
       "  (\u001b[33mVector\u001b[39m(\u001b[32m0.38654075\u001b[39m), \u001b[33mVector\u001b[39m(\u001b[32m-3.3443781\u001b[39m)),\n",
       "  (\u001b[33mVector\u001b[39m(\u001b[32m-2.9318765\u001b[39m), \u001b[33mVector\u001b[39m(\u001b[32m25.607553\u001b[39m)),\n",
       "  (\u001b[33mVector\u001b[39m(\u001b[32m-1.4785414\u001b[39m), \u001b[33mVector\u001b[39m(\u001b[32m-19.22561\u001b[39m)),\n",
       "  (\u001b[33mVector\u001b[39m(\u001b[32m1.3084861\u001b[39m), \u001b[33mVector\u001b[39m(\u001b[32m3.079529\u001b[39m)),\n",
       "  (\u001b[33mVector\u001b[39m(\u001b[32m-1.9936273\u001b[39m), \u001b[33mVector\u001b[39m(\u001b[32m-9.2362868\u001b[39m)),\n",
       "  (\u001b[33mVector\u001b[39m(\u001b[32m-2.275388\u001b[39m), \u001b[33mVector\u001b[39m(\u001b[32m-2.1666518\u001b[39m)),\n",
       "\u001b[33m...\u001b[39m"
      ]
     },
     "execution_count": 4,
     "metadata": {},
     "output_type": "execute_result"
    }
   ],
   "source": [
    "import java.io.File\n",
    "val numberPattern = \"([-+]?[0-9]*\\\\.?[0-9]+[eE][-+]?[0-9]+)?\".r\n",
    "val dataPath = new File(\"/home/foreks/git/rbf-nn/data\")\n",
    "def getData(path:String) = \n",
    "      scala.io.Source.fromFile(new File(dataPath, path)).getLines()\n",
    "        .map { line =>\n",
    "          val columns = numberPattern.findAllIn(line).filter(_ != \"\").map(_.toDouble).toVector\n",
    "            columns.splitAt(columns.length - 1 )\n",
    "          }\n",
    "          .toVector\n",
    "val trainingData = getData(\"d_reg_tra.txt\")\n",
    "val testData = getData(\"d_reg_val.txt\")"
   ]
  },
  {
   "cell_type": "markdown",
   "metadata": {},
   "source": [
    "Let's important what necessary for plotting graphs, and initialize."
   ]
  },
  {
   "cell_type": "code",
   "execution_count": 5,
   "metadata": {
    "collapsed": false
   },
   "outputs": [
    {
     "data": {
      "text/html": [
       "\n",
       "      <script type=\"text/javascript\">\n",
       "        require.config({\n",
       "  paths: {\n",
       "    d3: 'https://cdnjs.cloudflare.com/ajax/libs/d3/3.5.17/d3.min',\n",
       "    plotly: 'https://cdn.plot.ly/plotly-1.12.0.min'\n",
       "  },\n",
       "\n",
       "  shim: {\n",
       "    plotly: {\n",
       "      deps: ['d3', 'jquery'],\n",
       "      exports: 'plotly'\n",
       "    }\n",
       "  }\n",
       "});\n",
       "        \n",
       "\n",
       "        require(['plotly'], function(Plotly) {\n",
       "          window.Plotly = Plotly;\n",
       "        });\n",
       "      </script>\n",
       "    "
      ]
     },
     "metadata": {},
     "output_type": "display_data"
    },
    {
     "data": {
      "text/plain": [
       "\u001b[32mimport \u001b[39m\u001b[36m$ivy.$                                             \n",
       "\u001b[39m\n",
       "\u001b[32mimport \u001b[39m\u001b[36mplotly._\n",
       "\u001b[39m\n",
       "\u001b[32mimport \u001b[39m\u001b[36mplotly.element._\n",
       "\u001b[39m\n",
       "\u001b[32mimport \u001b[39m\u001b[36mplotly.layout._\n",
       "\u001b[39m\n",
       "\u001b[32mimport \u001b[39m\u001b[36mplotly.JupyterScala._\n",
       "\u001b[39m"
      ]
     },
     "execution_count": 5,
     "metadata": {},
     "output_type": "execute_result"
    }
   ],
   "source": [
    "import $ivy.`org.plotly-scala::plotly-jupyter-scala:0.3.1`\n",
    "import plotly._\n",
    "import plotly.element._\n",
    "import plotly.layout._\n",
    "import plotly.JupyterScala._\n",
    "plotly.JupyterScala.init()"
   ]
  },
  {
   "cell_type": "markdown",
   "metadata": {},
   "source": [
    "### Inference\n",
    "\n",
    "#### Data\n",
    "In this example, we have 2 by 50 training data and 2 by 100 validation data. The end goal is to construct a regression model with two step, first unsupervised than supervised learning. First column is an input and second column is a target. We are going to use Gaussian Function as a Radial Basis Function for the neural network and use gradient descent as an optimizer. To initialize Gaussian Function's center and width we are going to run kmeans algorithm and take means as gaussian function's center and take the maximium distance between mean and cluster element as width. We are going to run the algorithm with different amount of Gaussian Units ranging from 1 to 10 and evaluate their performance on both training and test sets."
   ]
  },
  {
   "cell_type": "code",
   "execution_count": 6,
   "metadata": {
    "collapsed": false
   },
   "outputs": [
    {
     "data": {
      "text/plain": [
       "defined \u001b[32mfunction\u001b[39m \u001b[36mtrainAndGetModel\u001b[39m\n",
       "\u001b[36mmodels\u001b[39m: \u001b[32mcollection\u001b[39m.\u001b[32mimmutable\u001b[39m.\u001b[32mIndexedSeq\u001b[39m[(\u001b[32mInt\u001b[39m, \u001b[32mRadialBasisFunctionNetwork\u001b[39m)] = \u001b[33mVector\u001b[39m(\n",
       "  (\u001b[32m1\u001b[39m, <function1>),\n",
       "  (\u001b[32m2\u001b[39m, <function1>),\n",
       "  (\u001b[32m3\u001b[39m, <function1>),\n",
       "  (\u001b[32m4\u001b[39m, <function1>),\n",
       "  (\u001b[32m5\u001b[39m, <function1>),\n",
       "  (\u001b[32m6\u001b[39m, <function1>),\n",
       "  (\u001b[32m7\u001b[39m, <function1>),\n",
       "  (\u001b[32m8\u001b[39m, <function1>),\n",
       "  (\u001b[32m9\u001b[39m, <function1>),\n",
       "  (\u001b[32m10\u001b[39m, <function1>)\n",
       ")"
      ]
     },
     "execution_count": 6,
     "metadata": {},
     "output_type": "execute_result"
    }
   ],
   "source": [
    "\n",
    "def trainAndGetModel(rbfCount: Int, training:Vector[(Vector[Double], Vector[Double])]) = {\n",
    "    val kmeansImpl = KMeansImpl(seed = 1990, k = rbfCount, eta = 1E-5, data = training.map(_._1))\n",
    "\n",
    "    val clusters = kmeansImpl()\n",
    "\n",
    "    val radialBasisFunctions = clusters.map { case (means, cluster) => GaussianFunction(width = cluster.map(it => kmeansImpl(it, means)).max, center = means) }\n",
    "\n",
    "    val net = new RadialBasisFunctionNetwork(nIn = 1,rbfs = radialBasisFunctions,nOut = 1)\n",
    "\n",
    "    for (i <- 0 to 500)\n",
    "      net.fit(training,0.1)\n",
    "    net\n",
    "}\n",
    "\n",
    "val models = \n",
    "    (for{i <- 1 to 10} yield { \n",
    "        ( i -> trainAndGetModel(rbfCount=i,trainingData))\n",
    "    })"
   ]
  },
  {
   "cell_type": "markdown",
   "metadata": {},
   "source": [
    "#### Visualization\n",
    "\n",
    "In the above we defined radial basis function with 1 input 1 output and k units of gaussian expert and trained it with 500 iterations with 0.1 learningRate. We could have had different results by adjusting learning rate, however 0.1 produced the minimum root mean square error so we choose it."
   ]
  },
  {
   "cell_type": "code",
   "execution_count": 7,
   "metadata": {
    "collapsed": false
   },
   "outputs": [
    {
     "data": {
      "text/plain": [
       "defined \u001b[32mfunction\u001b[39m \u001b[36mplotBarGraphForErrors\u001b[39m"
      ]
     },
     "execution_count": 7,
     "metadata": {},
     "output_type": "execute_result"
    }
   ],
   "source": [
    "def plotBarGraphForErrors(models:IndexedSeq[(Int, NeuralNetworkModel)], \n",
    "                          data: Vector[(Vector[Double], Vector[Double])],\n",
    "                          label: String) = {\n",
    "    val errors = models.map(model=>(model._1.toString, RMSE(model._2, data))).toSeq\n",
    "\n",
    "    val (x, y) = errors.unzip\n",
    "\n",
    "    Bar(x, y).plot(title=label)\n",
    "}"
   ]
  },
  {
   "cell_type": "code",
   "execution_count": 8,
   "metadata": {
    "collapsed": false
   },
   "outputs": [
    {
     "data": {
      "text/html": [
       "<div class=\"chart\" id=\"plot-1478169693\"></div>"
      ]
     },
     "metadata": {},
     "output_type": "display_data"
    },
    {
     "data": {
      "application/javascript": [
       "requirejs([\"plotly\"], function(Plotly) {\n",
       "  (function () {\n",
       "  var data0 = {\"type\":\"bar\",\"x\":[\"1\",\"2\",\"3\",\"4\",\"5\",\"6\",\"7\",\"8\",\"9\",\"10\"],\"y\":[7.822578501026404,6.7573173697854365,5.230641419343352,5.058349184280102,5.0893843791883295,5.112279524747224,5.219503544008185,5.248720820066918,5.264113362250486,5.178995062439476]};\n",
       "\n",
       "  var data = [data0];\n",
       "  var layout = {\"title\":\"Training Data RMSE\"};\n",
       "\n",
       "  Plotly.plot('plot-1478169693', data, layout);\n",
       "})();\n",
       "});\n",
       "      "
      ]
     },
     "metadata": {},
     "output_type": "display_data"
    },
    {
     "data": {
      "text/plain": [
       "\u001b[36mres7\u001b[39m: \u001b[32mString\u001b[39m = \u001b[32m\"plot-1478169693\"\u001b[39m"
      ]
     },
     "execution_count": 8,
     "metadata": {},
     "output_type": "execute_result"
    }
   ],
   "source": [
    "plotBarGraphForErrors(models, trainingData, \"Training Data RMSE\")"
   ]
  },
  {
   "cell_type": "code",
   "execution_count": 9,
   "metadata": {
    "collapsed": false,
    "scrolled": true
   },
   "outputs": [
    {
     "data": {
      "text/html": [
       "<div class=\"chart\" id=\"plot-1863303345\"></div>"
      ]
     },
     "metadata": {},
     "output_type": "display_data"
    },
    {
     "data": {
      "application/javascript": [
       "requirejs([\"plotly\"], function(Plotly) {\n",
       "  (function () {\n",
       "  var data0 = {\"type\":\"bar\",\"x\":[\"1\",\"2\",\"3\",\"4\",\"5\",\"6\",\"7\",\"8\",\"9\",\"10\"],\"y\":[8.575187096041137,7.271566326213436,4.7248330503010845,4.837586820556793,6.012235922871929,6.651782050365944,6.0726692124310375,6.042977437067902,6.699506290401843,7.028668397646882]};\n",
       "\n",
       "  var data = [data0];\n",
       "  var layout = {\"title\":\"Test Data RMSE\"};\n",
       "\n",
       "  Plotly.plot('plot-1863303345', data, layout);\n",
       "})();\n",
       "});\n",
       "      "
      ]
     },
     "metadata": {},
     "output_type": "display_data"
    },
    {
     "data": {
      "text/plain": [
       "\u001b[36mres8\u001b[39m: \u001b[32mString\u001b[39m = \u001b[32m\"plot-1863303345\"\u001b[39m"
      ]
     },
     "execution_count": 9,
     "metadata": {},
     "output_type": "execute_result"
    }
   ],
   "source": [
    "plotBarGraphForErrors(models, testData, \"Test Data RMSE\")"
   ]
  },
  {
   "cell_type": "markdown",
   "metadata": {
    "collapsed": true
   },
   "source": [
    "#### Chosing Models\n",
    "\n",
    "By looking at the above results, we can pick three different models one that underfits, one that overfits and one that good fits. When RBF unit count is 1 it is seen that error is high for both training and test data, so we can assume that this is a underfit model. When RBF unit count is 3, error drops significantly on the test data and it also drops on the training data consistently as RBF gets higher. So we can pick a model with RBF count 3 as a good fit model. However as the RBF count increases, error gets higher in the test data while keep dropping in the training data. This gives us hint that as the model get more complex with more RBF units it tends to become overfit. So we can pick a model with RBF count 10 as an example of overfitting model."
   ]
  },
  {
   "cell_type": "code",
   "execution_count": 10,
   "metadata": {
    "collapsed": false
   },
   "outputs": [
    {
     "data": {
      "text/plain": [
       "\u001b[36munderfitModel\u001b[39m: \u001b[32mRadialBasisFunctionNetwork\u001b[39m = <function1>\n",
       "\u001b[36mgoodFitModel\u001b[39m: \u001b[32mRadialBasisFunctionNetwork\u001b[39m = <function1>\n",
       "\u001b[36moverfitModel\u001b[39m: \u001b[32mRadialBasisFunctionNetwork\u001b[39m = <function1>"
      ]
     },
     "execution_count": 10,
     "metadata": {},
     "output_type": "execute_result"
    }
   ],
   "source": [
    "val underfitModel = models(0)._2\n",
    "val goodFitModel = models(2)._2\n",
    "val overfitModel = models(9)._2"
   ]
  },
  {
   "cell_type": "markdown",
   "metadata": {},
   "source": [
    "Let's plot predictions vs actual data for \"training data\"."
   ]
  },
  {
   "cell_type": "code",
   "execution_count": 11,
   "metadata": {
    "collapsed": false
   },
   "outputs": [
    {
     "data": {
      "text/plain": [
       "defined \u001b[32mfunction\u001b[39m \u001b[36mplotLineGraphForInputAndOutput\u001b[39m"
      ]
     },
     "execution_count": 11,
     "metadata": {},
     "output_type": "execute_result"
    }
   ],
   "source": [
    "def plotLineGraphForInputAndOutput(model: NeuralNetworkModel,  \n",
    "                                            data: Vector[(Vector[Double], Vector[Double])],\n",
    "                                            label: String) = {\n",
    "    val prediction = data.map(_._1).map(model)\n",
    "\n",
    "    val indices = prediction.indices\n",
    "\n",
    "    val plot = Seq(\n",
    "          Scatter(indices, prediction.map(_(0)),name=\"model output\"),\n",
    "          Scatter(indices, data.flatMap(_._1),name=\"model input\")\n",
    "    )\n",
    "\n",
    "    plot.plot(\n",
    "        title = label\n",
    "    )\n",
    "}"
   ]
  },
  {
   "cell_type": "code",
   "execution_count": 12,
   "metadata": {
    "collapsed": false
   },
   "outputs": [
    {
     "data": {
      "text/html": [
       "<div class=\"chart\" id=\"plot-1428836905\"></div>"
      ]
     },
     "metadata": {},
     "output_type": "display_data"
    },
    {
     "data": {
      "application/javascript": [
       "requirejs([\"plotly\"], function(Plotly) {\n",
       "  (function () {\n",
       "  var data0 = {\"type\":\"scatter\",\"x\":[0.0,1.0,2.0,3.0,4.0,5.0,6.0,7.0,8.0,9.0,10.0,11.0,12.0,13.0,14.0,15.0,16.0,17.0,18.0,19.0,20.0,21.0,22.0,23.0,24.0,25.0,26.0,27.0,28.0,29.0,30.0,31.0,32.0,33.0,34.0,35.0,36.0,37.0,38.0,39.0,40.0,41.0,42.0,43.0,44.0,45.0,46.0,47.0,48.0,49.0],\"y\":[-3.9644250563844956,-2.4100217978019103,-4.195557520851466,-3.52117090877411,3.7525620130513815,1.4733658282887134,5.486351612668347,-1.8211984353323807,-1.7949075139908537,-2.579021042114391,-1.699638656055761,-1.605924057770146,1.5978674565234883,-5.119961014250396,4.016921036757882,-1.9300603915101888,6.377247585552865,-4.766614439043895,-4.9482619033206205,-5.186156689888332,-4.386557764022353,-0.872158396659465,-4.46860309779499,-0.24497739249842,5.130337501652672,-4.546210050083314,-2.0524718699808027,-5.186227754561369,5.240233840275934,-0.3184971163755925,2.499806915782095,2.085062840106964,-5.1527331813066795,3.5740673996581265,1.6749411273850932,0.27409141821674865,1.984610847206973,-5.1637033681868125,5.362692444119951,5.319717099737524,-4.4243040992937175,-3.716063649832357,1.61420202511529,1.3197108635227046,-3.066093053379621,-2.9860779851879116,-5.032096828305395,6.764340680897053,4.483245500237327,-3.596528019346497],\"name\":\"model output\"};\n",
       "  var data1 = {\"type\":\"scatter\",\"x\":[0.0,1.0,2.0,3.0,4.0,5.0,6.0,7.0,8.0,9.0,10.0,11.0,12.0,13.0,14.0,15.0,16.0,17.0,18.0,19.0,20.0,21.0,22.0,23.0,24.0,25.0,26.0,27.0,28.0,29.0,30.0,31.0,32.0,33.0,34.0,35.0,36.0,37.0,38.0,39.0,40.0,41.0,42.0,43.0,44.0,45.0,46.0,47.0,48.0,49.0],\"y\":[0.88780483,-1.1968985,-0.6805217,1.0287499,-2.3360415,2.0833673,2.7345112,-1.3309695,-1.3367205,1.2805311,1.4816721,-1.3775442,-1.9804606,0.26416734,2.5025817,-1.30696,-2.7493471,0.54604472,-0.30459961,-0.0074886221,-0.60473135,-1.5286133,-0.56955603,-1.6502073,-2.5544316,0.65873594,-1.2795672,0.13147199,2.6959424,-1.6362543,2.2564104,-2.0630098,0.21378808,-2.3073679,2.1178858,1.8710147,2.1703751,0.19266638,2.715143,2.7084072,0.71303339,0.96921643,2.107515,-1.9325934,-1.0323079,1.1777262,-0.23567409,2.9339167,-2.452421,-0.88186763],\"name\":\"model input\"};\n",
       "\n",
       "  var data = [data0, data1];\n",
       "  var layout = {\"title\":\"Underfitting Model Input and Output for Training Data\"};\n",
       "\n",
       "  Plotly.plot('plot-1428836905', data, layout);\n",
       "})();\n",
       "});\n",
       "      "
      ]
     },
     "metadata": {},
     "output_type": "display_data"
    },
    {
     "data": {
      "text/plain": [
       "\u001b[36mres11\u001b[39m: \u001b[32mString\u001b[39m = \u001b[32m\"plot-1428836905\"\u001b[39m"
      ]
     },
     "execution_count": 12,
     "metadata": {},
     "output_type": "execute_result"
    }
   ],
   "source": [
    "plotLineGraphForInputAndOutput(underfitModel, trainingData, \"Underfitting Model Input and Output for Training Data\")"
   ]
  },
  {
   "cell_type": "code",
   "execution_count": 13,
   "metadata": {
    "collapsed": false
   },
   "outputs": [
    {
     "data": {
      "text/html": [
       "<div class=\"chart\" id=\"plot-455821534\"></div>"
      ]
     },
     "metadata": {},
     "output_type": "display_data"
    },
    {
     "data": {
      "application/javascript": [
       "requirejs([\"plotly\"], function(Plotly) {\n",
       "  (function () {\n",
       "  var data0 = {\"type\":\"scatter\",\"x\":[0.0,1.0,2.0,3.0,4.0,5.0,6.0,7.0,8.0,9.0,10.0,11.0,12.0,13.0,14.0,15.0,16.0,17.0,18.0,19.0,20.0,21.0,22.0,23.0,24.0,25.0,26.0,27.0,28.0,29.0,30.0,31.0,32.0,33.0,34.0,35.0,36.0,37.0,38.0,39.0,40.0,41.0,42.0,43.0,44.0,45.0,46.0,47.0,48.0,49.0],\"y\":[0.8410307874284939,-10.165065755643013,-5.4134011293588316,0.6683340567305365,4.658531384338168,-4.106716771144846,6.993113086770791,-10.973060106257904,-10.99809934090095,-0.35641878652546666,-1.6969896554932404,-11.149243966475993,-5.8508385875358755,-0.6065854684518186,0.9765635963762165,-10.859086856420276,20.954893633143122,0.30811307257346243,-2.8153005125416826,-1.552821175005576,-4.779455675467375,-11.243202719087137,-4.503534619752585,-10.690709541601109,13.008716829616517,0.5950919115345883,-10.711356849112022,-1.0626678629971735,5.8519107250826465,-10.785599251234345,-2.925720104044572,-3.858594592858992,-0.7792321190211879,3.644606934075071,-3.9669088478465255,-4.079164877524235,-3.6653016459533205,-0.8517770804695672,6.41365559233347,6.215128865579601,0.7012826897080657,0.7758777181986858,-4.013680150561058,-6.8659013117733,-8.755761501649133,0.16948353950644446,-2.4779615512154862,13.600858661079862,8.991170231773502,-7.296901745053404],\"name\":\"model output\"};\n",
       "  var data1 = {\"type\":\"scatter\",\"x\":[0.0,1.0,2.0,3.0,4.0,5.0,6.0,7.0,8.0,9.0,10.0,11.0,12.0,13.0,14.0,15.0,16.0,17.0,18.0,19.0,20.0,21.0,22.0,23.0,24.0,25.0,26.0,27.0,28.0,29.0,30.0,31.0,32.0,33.0,34.0,35.0,36.0,37.0,38.0,39.0,40.0,41.0,42.0,43.0,44.0,45.0,46.0,47.0,48.0,49.0],\"y\":[0.88780483,-1.1968985,-0.6805217,1.0287499,-2.3360415,2.0833673,2.7345112,-1.3309695,-1.3367205,1.2805311,1.4816721,-1.3775442,-1.9804606,0.26416734,2.5025817,-1.30696,-2.7493471,0.54604472,-0.30459961,-0.0074886221,-0.60473135,-1.5286133,-0.56955603,-1.6502073,-2.5544316,0.65873594,-1.2795672,0.13147199,2.6959424,-1.6362543,2.2564104,-2.0630098,0.21378808,-2.3073679,2.1178858,1.8710147,2.1703751,0.19266638,2.715143,2.7084072,0.71303339,0.96921643,2.107515,-1.9325934,-1.0323079,1.1777262,-0.23567409,2.9339167,-2.452421,-0.88186763],\"name\":\"model input\"};\n",
       "\n",
       "  var data = [data0, data1];\n",
       "  var layout = {\"title\":\"Good-Fitting Model Input and Output for Training Data\"};\n",
       "\n",
       "  Plotly.plot('plot-455821534', data, layout);\n",
       "})();\n",
       "});\n",
       "      "
      ]
     },
     "metadata": {},
     "output_type": "display_data"
    },
    {
     "data": {
      "text/plain": [
       "\u001b[36mres12\u001b[39m: \u001b[32mString\u001b[39m = \u001b[32m\"plot-455821534\"\u001b[39m"
      ]
     },
     "execution_count": 13,
     "metadata": {},
     "output_type": "execute_result"
    }
   ],
   "source": [
    "plotLineGraphForInputAndOutput(goodFitModel,trainingData,\"Good-Fitting Model Input and Output for Training Data\")"
   ]
  },
  {
   "cell_type": "code",
   "execution_count": 14,
   "metadata": {
    "collapsed": false
   },
   "outputs": [
    {
     "data": {
      "text/html": [
       "<div class=\"chart\" id=\"plot-153396448\"></div>"
      ]
     },
     "metadata": {},
     "output_type": "display_data"
    },
    {
     "data": {
      "application/javascript": [
       "requirejs([\"plotly\"], function(Plotly) {\n",
       "  (function () {\n",
       "  var data0 = {\"type\":\"scatter\",\"x\":[0.0,1.0,2.0,3.0,4.0,5.0,6.0,7.0,8.0,9.0,10.0,11.0,12.0,13.0,14.0,15.0,16.0,17.0,18.0,19.0,20.0,21.0,22.0,23.0,24.0,25.0,26.0,27.0,28.0,29.0,30.0,31.0,32.0,33.0,34.0,35.0,36.0,37.0,38.0,39.0,40.0,41.0,42.0,43.0,44.0,45.0,46.0,47.0,48.0,49.0],\"y\":[-1.6760166991291214,-15.25266277555551,-1.016656757296893,-1.9027785363283414,9.59748017454269,3.406929427223675,3.556679486163441,-15.437450936090947,-15.375274481891609,-1.9486322826771794,1.6375488981040167,-14.609831159882145,-3.825266542822469,2.249773656303681,1.9317866434450384,-15.59281762567474,11.514718263615947,3.6973622273608964,-0.5486058009107833,2.986382891365034,-2.5216328116870663,-8.081713081265036,-3.223720420415477,-5.176365764154646,10.922893598375335,0.3448628052152145,-15.606544671982647,0.39233395408065874,3.1873530779683303,-5.226318206603853,2.165324145056733,0.13555799606459473,1.0028594008732306,9.15207984940245,3.1166948281104396,5.015854573960274,2.7067544330232014,0.6486115225525317,3.3673117774678882,3.3032668316048763,-0.8286304544244683,-1.6899602293477152,3.202606605164455,-5.585992729291075,-13.291917544551705,-2.4915156541935843,1.7422492183877978,5.804469102618085,10.571188567356948,-5.271498824074797],\"name\":\"model output\"};\n",
       "  var data1 = {\"type\":\"scatter\",\"x\":[0.0,1.0,2.0,3.0,4.0,5.0,6.0,7.0,8.0,9.0,10.0,11.0,12.0,13.0,14.0,15.0,16.0,17.0,18.0,19.0,20.0,21.0,22.0,23.0,24.0,25.0,26.0,27.0,28.0,29.0,30.0,31.0,32.0,33.0,34.0,35.0,36.0,37.0,38.0,39.0,40.0,41.0,42.0,43.0,44.0,45.0,46.0,47.0,48.0,49.0],\"y\":[0.88780483,-1.1968985,-0.6805217,1.0287499,-2.3360415,2.0833673,2.7345112,-1.3309695,-1.3367205,1.2805311,1.4816721,-1.3775442,-1.9804606,0.26416734,2.5025817,-1.30696,-2.7493471,0.54604472,-0.30459961,-0.0074886221,-0.60473135,-1.5286133,-0.56955603,-1.6502073,-2.5544316,0.65873594,-1.2795672,0.13147199,2.6959424,-1.6362543,2.2564104,-2.0630098,0.21378808,-2.3073679,2.1178858,1.8710147,2.1703751,0.19266638,2.715143,2.7084072,0.71303339,0.96921643,2.107515,-1.9325934,-1.0323079,1.1777262,-0.23567409,2.9339167,-2.452421,-0.88186763],\"name\":\"model input\"};\n",
       "\n",
       "  var data = [data0, data1];\n",
       "  var layout = {\"title\":\"Overfitting Model Input and Output for Training Data\"};\n",
       "\n",
       "  Plotly.plot('plot-153396448', data, layout);\n",
       "})();\n",
       "});\n",
       "      "
      ]
     },
     "metadata": {},
     "output_type": "display_data"
    },
    {
     "data": {
      "text/plain": [
       "\u001b[36mres13\u001b[39m: \u001b[32mString\u001b[39m = \u001b[32m\"plot-153396448\"\u001b[39m"
      ]
     },
     "execution_count": 14,
     "metadata": {},
     "output_type": "execute_result"
    }
   ],
   "source": [
    "plotLineGraphForInputAndOutput(overfitModel,trainingData,\"Overfitting Model Input and Output for Training Data\")"
   ]
  },
  {
   "cell_type": "markdown",
   "metadata": {},
   "source": [
    "When we look at the graphs, we conclude that underfitting model produces output close to random around zero so doesn't model well even on training data. Overfitting model is more responsive to the noise in the training data, however best fit model seem to generalize well in terms of response to noise and actual movements."
   ]
  },
  {
   "cell_type": "markdown",
   "metadata": {},
   "source": [
    "Now we are going to take a look at the RBF outputs, weighted values and actual data together on the same graph for each case underfitting, overfitting and good-fit."
   ]
  },
  {
   "cell_type": "code",
   "execution_count": 15,
   "metadata": {
    "collapsed": false
   },
   "outputs": [
    {
     "data": {
      "text/plain": [
       "defined \u001b[32mfunction\u001b[39m \u001b[36mplotLineGraphForRBFPredictionAndActualData\u001b[39m"
      ]
     },
     "execution_count": 15,
     "metadata": {},
     "output_type": "execute_result"
    }
   ],
   "source": [
    "def plotLineGraphForRBFPredictionAndActualData(model: NeuralNetworkModel,  \n",
    "                                               data: Vector[(Vector[Double], Vector[Double])],\n",
    "                                              label: String) = {\n",
    "    val prediction = data.map(_._1).map(model)\n",
    "    val rbfOutputs =  data.map(model.getH)\n",
    "    val rbfCount =  rbfOutputs.head.size\n",
    "    \n",
    "    val indices = data.indices\n",
    "\n",
    "    val plot = Seq(\n",
    "          Scatter(indices, prediction.map(_(0)),name=\"prediction\"),\n",
    "          Scatter(indices, data.flatMap(_._2),name=\"actual\")\n",
    "    ) ++ (0 until rbfCount).map(rbfIndex => Scatter(indices, rbfOutputs.map(_(rbfIndex)),name=s\"RBOutput$rbfIndex\")).toSeq\n",
    "\n",
    "    plot.plot(\n",
    "        title = label\n",
    "    )\n",
    "}"
   ]
  },
  {
   "cell_type": "code",
   "execution_count": 16,
   "metadata": {
    "collapsed": false
   },
   "outputs": [
    {
     "data": {
      "text/html": [
       "<div class=\"chart\" id=\"plot-125939994\"></div>"
      ]
     },
     "metadata": {},
     "output_type": "display_data"
    },
    {
     "data": {
      "application/javascript": [
       "requirejs([\"plotly\"], function(Plotly) {\n",
       "  (function () {\n",
       "  var data0 = {\"type\":\"scatter\",\"x\":[0.0,1.0,2.0,3.0,4.0,5.0,6.0,7.0,8.0,9.0,10.0,11.0,12.0,13.0,14.0,15.0,16.0,17.0,18.0,19.0,20.0,21.0,22.0,23.0,24.0,25.0,26.0,27.0,28.0,29.0,30.0,31.0,32.0,33.0,34.0,35.0,36.0,37.0,38.0,39.0,40.0,41.0,42.0,43.0,44.0,45.0,46.0,47.0,48.0,49.0,50.0,51.0,52.0,53.0,54.0,55.0,56.0,57.0,58.0,59.0,60.0,61.0,62.0,63.0,64.0,65.0,66.0,67.0,68.0,69.0,70.0,71.0,72.0,73.0,74.0,75.0,76.0,77.0,78.0,79.0,80.0,81.0,82.0,83.0,84.0,85.0,86.0,87.0,88.0,89.0,90.0,91.0,92.0,93.0,94.0,95.0,96.0,97.0,98.0,99.0,100.0,101.0,102.0,103.0,104.0,105.0,106.0,107.0,108.0,109.0,110.0,111.0,112.0,113.0,114.0,115.0,116.0,117.0,118.0,119.0,120.0,121.0,122.0,123.0,124.0,125.0,126.0,127.0,128.0,129.0,130.0,131.0,132.0,133.0,134.0,135.0,136.0,137.0,138.0,139.0,140.0,141.0,142.0,143.0,144.0,145.0,146.0,147.0,148.0,149.0],\"y\":[-3.9644250563844956,-2.4100217978019103,-4.195557520851466,-3.52117090877411,3.7525620130513815,1.4733658282887134,5.486351612668347,-1.8211984353323807,-1.7949075139908537,-2.579021042114391,-1.699638656055761,-1.605924057770146,1.5978674565234883,-5.119961014250396,4.016921036757882,-1.9300603915101888,6.377247585552865,-4.766614439043895,-4.9482619033206205,-5.186156689888332,-4.386557764022353,-0.872158396659465,-4.46860309779499,-0.24497739249842,5.130337501652672,-4.546210050083314,-2.0524718699808027,-5.186227754561369,5.240233840275934,-0.3184971163755925,2.499806915782095,2.085062840106964,-5.1527331813066795,3.5740673996581265,1.6749411273850932,0.27409141821674865,1.984610847206973,-5.1637033681868125,5.362692444119951,5.319717099737524,-4.4243040992937175,-3.716063649832357,1.61420202511529,1.3197108635227046,-3.066093053379621,-2.9860779851879116,-5.032096828305395,6.764340680897053,4.483245500237327,-3.596528019346497,0.8812215460819353,6.84330352007543,1.85378319535387,1.9022030197164739,6.665335852275863,-5.0017699921700896,7.548466468648396,-1.1211810629569037,-2.4632219497720236,1.674955615632399,3.375804593354193,-1.8720430560852712,6.3610492879881875,-0.6459220576890914,-5.172438558784677,1.328646853451577,0.7392672958998077,-2.71450423019942,-5.191925019222854,-5.156042493886069,6.566019666601342,7.482101008680907,-4.441871480900453,6.0935299958319895,-4.216159853863047,-2.4820841959229547,-4.147174761478102,-0.09547431291299446,-0.6078251064299991,-0.7250139657017556,6.158683030965168,-3.0387669706577434,2.7414393420738428,-3.524306023287007,-4.826323845857122,-4.942697607653681,-1.969534172201186,-4.121431135489239,-4.727734126186949,-2.710352632503035,2.8532039555109385,1.8371741442741403,7.983724610806593,2.3396348234307283,-3.5314183016466103,-1.5654963178321744,-4.5617590855404515,-4.83645404493863,1.8784801605732078,-4.950856788909199,-1.8656022122767197,2.0338098742719417,0.06677278568065148,1.1605028194683484,-5.189189718641906,3.803459140965522,-0.7987970259436885,1.9993946858968812,5.940488040378138,6.534670511827521,3.7963564303173847,-4.086035529315755,5.911500274346576,-4.310911509682928,4.948559893160478,6.280397650750864,-5.128371970703945,4.931583642910436,-2.811431521234063,-0.04311883425328489,4.779884380351554,7.859621689276299,1.4941650252891634,-0.9641647493768559,1.3553940247132985,-5.170663125996299,2.65701161595792,1.6913291797988386,4.011089767588057,6.330492837633507,-5.174346740848282,-3.3364721766468577,-1.8618388673991042,6.807004497952661,-4.981487408494676,7.12352638610745,4.723002337841017,2.9209071370672355,2.3406624827674776,-2.951554265225596,-3.344790213067153,-4.963601416718383,-1.9860909843633259,2.889747335398461,2.2408007660961964,0.0358643620922372,-5.125439335362611,-4.597138498548965,-0.08123597832686613,6.6903807266890105],\"name\":\"prediction\"};\n",
       "  var data1 = {\"type\":\"scatter\",\"x\":[0.0,1.0,2.0,3.0,4.0,5.0,6.0,7.0,8.0,9.0,10.0,11.0,12.0,13.0,14.0,15.0,16.0,17.0,18.0,19.0,20.0,21.0,22.0,23.0,24.0,25.0,26.0,27.0,28.0,29.0,30.0,31.0,32.0,33.0,34.0,35.0,36.0,37.0,38.0,39.0,40.0,41.0,42.0,43.0,44.0,45.0,46.0,47.0,48.0,49.0,50.0,51.0,52.0,53.0,54.0,55.0,56.0,57.0,58.0,59.0,60.0,61.0,62.0,63.0,64.0,65.0,66.0,67.0,68.0,69.0,70.0,71.0,72.0,73.0,74.0,75.0,76.0,77.0,78.0,79.0,80.0,81.0,82.0,83.0,84.0,85.0,86.0,87.0,88.0,89.0,90.0,91.0,92.0,93.0,94.0,95.0,96.0,97.0,98.0,99.0,100.0,101.0,102.0,103.0,104.0,105.0,106.0,107.0,108.0,109.0,110.0,111.0,112.0,113.0,114.0,115.0,116.0,117.0,118.0,119.0,120.0,121.0,122.0,123.0,124.0,125.0,126.0,127.0,128.0,129.0,130.0,131.0,132.0,133.0,134.0,135.0,136.0,137.0,138.0,139.0,140.0,141.0,142.0,143.0,144.0,145.0,146.0,147.0,148.0,149.0],\"y\":[7.0887174,-6.6488336,1.3097657,-5.4677192,8.879597,0.5759764,6.9868772,-14.2752,-25.496883,2.4558209,-0.01585057,-9.1098026,-11.821141,1.4949945,2.8328359,-8.3596439,19.788724,1.8262313,-1.6278779,9.3569256,-6.3361141,-11.438209,2.26773,-6.2717687,16.664973,5.4564557,-16.601525,-0.19194773,7.3634771,-7.9847972,0.8413647,7.321542,-3.9400823,1.5507389,5.2635498,3.6535214,-7.4149324,4.565747,9.7424533,10.563553,-5.0929726,1.5522667,-3.5609573,2.5843997,-9.0392924,-5.0195118,5.7098848,10.216238,10.006393,-14.970309,-6.7806596,19.451004,-8.6291743,-1.133289,16.647087,-3.3443781,25.607553,-19.22561,3.079529,-9.2362868,-2.1666518,1.4661353,9.0010737,-4.2491447,0.78289671,-4.7843656,-6.3331345,-4.0905619,-3.5138303,5.2949746,14.33784,18.899257,6.2670923,21.943682,-3.9560745,-13.410109,-5.3756579,-3.1878678,8.7244855,-12.160641,20.711627,-11.141173,-0.18288778,-11.987174,-9.5474606,-1.5581771,-11.123535,-7.5211539,-4.341278,-11.073149,5.2470613,0.58115095,30.430512,0.53958871,-4.5455824,-4.7831224,3.1380058,-10.744844,0.53544639,-6.905279,1.584951,4.8820055,-5.5829683,-4.6698264,12.267529,-5.2155277,-15.379571,7.910482,11.691854,14.659047,8.5409437,-1.8453196,7.7448307,-8.2648927,-3.9104836,21.670256,-1.0840106,12.902442,-15.167126,0.58770455,5.4078014,24.530535,-7.1457525,-6.2579855,-3.1620106,0.90797673,5.2672431,-6.4154674,5.7287844,21.712374,-3.1466554,-6.0673208,-11.678548,13.809188,9.7245355,28.102968,8.8064694,-4.0375464,-9.2295978,-15.805793,-2.6921023,-0.49559519,2.985952,5.4103842,-4.9285353,1.9453618,-1.576797,6.0896994,-2.347801,21.458954],\"name\":\"actual\"};\n",
       "  var data2 = {\"type\":\"scatter\",\"x\":[0.0,1.0,2.0,3.0,4.0,5.0,6.0,7.0,8.0,9.0,10.0,11.0,12.0,13.0,14.0,15.0,16.0,17.0,18.0,19.0,20.0,21.0,22.0,23.0,24.0,25.0,26.0,27.0,28.0,29.0,30.0,31.0,32.0,33.0,34.0,35.0,36.0,37.0,38.0,39.0,40.0,41.0,42.0,43.0,44.0,45.0,46.0,47.0,48.0,49.0,50.0,51.0,52.0,53.0,54.0,55.0,56.0,57.0,58.0,59.0,60.0,61.0,62.0,63.0,64.0,65.0,66.0,67.0,68.0,69.0,70.0,71.0,72.0,73.0,74.0,75.0,76.0,77.0,78.0,79.0,80.0,81.0,82.0,83.0,84.0,85.0,86.0,87.0,88.0,89.0,90.0,91.0,92.0,93.0,94.0,95.0,96.0,97.0,98.0,99.0,100.0,101.0,102.0,103.0,104.0,105.0,106.0,107.0,108.0,109.0,110.0,111.0,112.0,113.0,114.0,115.0,116.0,117.0,118.0,119.0,120.0,121.0,122.0,123.0,124.0,125.0,126.0,127.0,128.0,129.0,130.0,131.0,132.0,133.0,134.0,135.0,136.0,137.0,138.0,139.0,140.0,141.0,142.0,143.0,144.0,145.0,146.0,147.0,148.0,149.0],\"y\":[0.959510797943859,0.9083703880852529,0.9671151367145131,0.9449275817448705,0.7056192293142463,0.7806055794736128,0.6485769462107916,0.8889978938983369,0.8881329134078868,0.913930522221755,0.8849985347229087,0.8819152917229993,0.7765094324404445,0.9975283343619863,0.6969217251450261,0.8925794902609304,0.6192661576859133,0.9859031086823431,0.9918793736712361,0.9997061951997707,0.9733991113941336,0.8577741453105882,0.9760984315177577,0.837139671321145,0.6602899347498089,0.978651727341083,0.8966068706371744,0.9997085332523226,0.6566743068436511,0.8395584959028681,0.7468353093585132,0.7604805342377996,0.9986065500990926,0.7114917644083945,0.7739736817622299,0.8200621262386681,0.7637854398725856,0.9989674730772051,0.6526453760261705,0.6540592798592956,0.9746409790020272,0.9513396209638788,0.7759720194312811,0.7856608814562585,0.9299553614320595,0.9273228377548255,0.9946375719704962,0.6065306597126334,0.6815794874999637,0.9474068569903086,0.8000873330792366,0.6039327547372774,0.7680897152912486,0.766496686166076,0.6097879531374334,0.9936398084743694,0.5807326475527307,0.8659670779670383,0.9101206916575528,0.7739732050938356,0.7180146799504953,0.8906706996712606,0.6197990873307113,0.850330890778038,0.9992548638973808,0.7853668842679923,0.8047576774672849,0.9183879664077231,0.9998959752486338,0.9987154276382548,0.6130554903179846,0.58291609435423,0.975218951989764,0.6286005654351947,0.9677929606629887,0.9107412661408386,0.9655233270404261,0.8322209678103879,0.8490774877817461,0.8529330421631008,0.6264570078340087,0.9290563237708149,0.7388855181782261,0.9450307281068315,0.9878675690114003,0.9916963064012657,0.8938781914261912,0.9646763527581426,0.9846239328160057,0.9182513773941651,0.7352084233784676,0.7686361588700883,0.5664125027245712,0.7521050271138844,0.9452647245478003,0.8805852049654803,0.9791632960358817,0.9882008560976935,0.7672771765136779,0.99196474631299,0.8904587936614231,0.762166774706481,0.826882981625249,0.790898881686103,0.9998059829046112,0.703944696037387,0.8553605306031569,0.7632990464185634,0.6336356991974652,0.6140868884542159,0.7041783776973084,0.9635118249582225,0.6345894068197017,0.9709103232178181,0.6662704815288248,0.622452554351776,0.997805057765622,0.6668290060885592,0.9215769081206452,0.8304984542848807,0.6718199647858434,0.5704955321679712,0.7799212786311771,0.8608011864349443,0.7844868929958883,0.9991964515388293,0.7416632198416513,0.773434509116653,0.6971135759364434,0.6208044052148153,0.9993176437534309,0.9388509289784798,0.8903349783011439,0.6051270052373167,0.9929725043906801,0.5947133246173878,0.6736914038422926,0.73298096506969,0.7520712167629434,0.9261869953156334,0.9391245952805825,0.9923840490171361,0.8944229163264052,0.7340061334226611,0.7553567021037361,0.8278998795516187,0.997708573039092,0.9803272910750211,0.8317525216318187,0.6089639680259292],\"name\":\"RBOutput0\"};\n",
       "\n",
       "  var data = [data0, data1, data2];\n",
       "  var layout = {\"title\":\"Underfitting Model Outputs vs Actual\"};\n",
       "\n",
       "  Plotly.plot('plot-125939994', data, layout);\n",
       "})();\n",
       "});\n",
       "      "
      ]
     },
     "metadata": {},
     "output_type": "display_data"
    },
    {
     "data": {
      "text/plain": [
       "\u001b[36mallData\u001b[39m: \u001b[32mVector\u001b[39m[(\u001b[32mVector\u001b[39m[\u001b[32mDouble\u001b[39m], \u001b[32mVector\u001b[39m[\u001b[32mDouble\u001b[39m])] = \u001b[33mVector\u001b[39m(\n",
       "  (\u001b[33mVector\u001b[39m(\u001b[32m0.88780483\u001b[39m), \u001b[33mVector\u001b[39m(\u001b[32m7.0887174\u001b[39m)),\n",
       "  (\u001b[33mVector\u001b[39m(\u001b[32m-1.1968985\u001b[39m), \u001b[33mVector\u001b[39m(\u001b[32m-6.6488336\u001b[39m)),\n",
       "  (\u001b[33mVector\u001b[39m(\u001b[32m-0.6805217\u001b[39m), \u001b[33mVector\u001b[39m(\u001b[32m1.3097657\u001b[39m)),\n",
       "  (\u001b[33mVector\u001b[39m(\u001b[32m1.0287499\u001b[39m), \u001b[33mVector\u001b[39m(\u001b[32m-5.4677192\u001b[39m)),\n",
       "  (\u001b[33mVector\u001b[39m(\u001b[32m-2.3360415\u001b[39m), \u001b[33mVector\u001b[39m(\u001b[32m8.879597\u001b[39m)),\n",
       "  (\u001b[33mVector\u001b[39m(\u001b[32m2.0833673\u001b[39m), \u001b[33mVector\u001b[39m(\u001b[32m0.5759764\u001b[39m)),\n",
       "  (\u001b[33mVector\u001b[39m(\u001b[32m2.7345112\u001b[39m), \u001b[33mVector\u001b[39m(\u001b[32m6.9868772\u001b[39m)),\n",
       "  (\u001b[33mVector\u001b[39m(\u001b[32m-1.3309695\u001b[39m), \u001b[33mVector\u001b[39m(\u001b[32m-14.2752\u001b[39m)),\n",
       "  (\u001b[33mVector\u001b[39m(\u001b[32m-1.3367205\u001b[39m), \u001b[33mVector\u001b[39m(\u001b[32m-25.496883\u001b[39m)),\n",
       "  (\u001b[33mVector\u001b[39m(\u001b[32m1.2805311\u001b[39m), \u001b[33mVector\u001b[39m(\u001b[32m2.4558209\u001b[39m)),\n",
       "  (\u001b[33mVector\u001b[39m(\u001b[32m1.4816721\u001b[39m), \u001b[33mVector\u001b[39m(\u001b[32m-0.01585057\u001b[39m)),\n",
       "\u001b[33m...\u001b[39m\n",
       "\u001b[36mres15_1\u001b[39m: \u001b[32mString\u001b[39m = \u001b[32m\"plot-125939994\"\u001b[39m"
      ]
     },
     "execution_count": 16,
     "metadata": {},
     "output_type": "execute_result"
    }
   ],
   "source": [
    "val allData =  trainingData ++ testData\n",
    "plotLineGraphForRBFPredictionAndActualData(underfitModel, allData, \"Underfitting Model Outputs vs Actual\")"
   ]
  },
  {
   "cell_type": "code",
   "execution_count": 17,
   "metadata": {
    "collapsed": false
   },
   "outputs": [
    {
     "data": {
      "text/html": [
       "<div class=\"chart\" id=\"plot-891399789\"></div>"
      ]
     },
     "metadata": {},
     "output_type": "display_data"
    },
    {
     "data": {
      "application/javascript": [
       "requirejs([\"plotly\"], function(Plotly) {\n",
       "  (function () {\n",
       "  var data0 = {\"type\":\"scatter\",\"x\":[0.0,1.0,2.0,3.0,4.0,5.0,6.0,7.0,8.0,9.0,10.0,11.0,12.0,13.0,14.0,15.0,16.0,17.0,18.0,19.0,20.0,21.0,22.0,23.0,24.0,25.0,26.0,27.0,28.0,29.0,30.0,31.0,32.0,33.0,34.0,35.0,36.0,37.0,38.0,39.0,40.0,41.0,42.0,43.0,44.0,45.0,46.0,47.0,48.0,49.0,50.0,51.0,52.0,53.0,54.0,55.0,56.0,57.0,58.0,59.0,60.0,61.0,62.0,63.0,64.0,65.0,66.0,67.0,68.0,69.0,70.0,71.0,72.0,73.0,74.0,75.0,76.0,77.0,78.0,79.0,80.0,81.0,82.0,83.0,84.0,85.0,86.0,87.0,88.0,89.0,90.0,91.0,92.0,93.0,94.0,95.0,96.0,97.0,98.0,99.0,100.0,101.0,102.0,103.0,104.0,105.0,106.0,107.0,108.0,109.0,110.0,111.0,112.0,113.0,114.0,115.0,116.0,117.0,118.0,119.0,120.0,121.0,122.0,123.0,124.0,125.0,126.0,127.0,128.0,129.0,130.0,131.0,132.0,133.0,134.0,135.0,136.0,137.0,138.0,139.0,140.0,141.0,142.0,143.0,144.0,145.0,146.0,147.0,148.0,149.0],\"y\":[-1.6760166991291214,-15.25266277555551,-1.016656757296893,-1.9027785363283414,9.59748017454269,3.406929427223675,3.556679486163441,-15.437450936090947,-15.375274481891609,-1.9486322826771794,1.6375488981040167,-14.609831159882145,-3.825266542822469,2.249773656303681,1.9317866434450384,-15.59281762567474,11.514718263615947,3.6973622273608964,-0.5486058009107833,2.986382891365034,-2.5216328116870663,-8.081713081265036,-3.223720420415477,-5.176365764154646,10.922893598375335,0.3448628052152145,-15.606544671982647,0.39233395408065874,3.1873530779683303,-5.226318206603853,2.165324145056733,0.13555799606459473,1.0028594008732306,9.15207984940245,3.1166948281104396,5.015854573960274,2.7067544330232014,0.6486115225525317,3.3673117774678882,3.3032668316048763,-0.8286304544244683,-1.6899602293477152,3.202606605164455,-5.585992729291075,-13.291917544551705,-2.4915156541935843,1.7422492183877978,5.804469102618085,10.571188567356948,-5.271498824074797,4.288008116808195,11.740786379724748,-1.8203658553872764,2.8106530553080855,5.620154478412955,5.305781351253504,12.023691229073627,-10.48693264045708,-1.6094601571781961,-3.250473839248116,8.516431613916263,0.8533697927026562,5.058336905988762,4.893519259606402,3.7348881574872834,3.622231230709957,-7.04390601732122,-14.922683980474673,2.3463515784345965,0.8889625205267144,5.435791745464721,12.001142977516292,-0.6956548289956928,11.37231486231683,-1.1414370177546704,-15.183305633450878,-0.7807994490648653,5.210620863675155,4.944278201360482,-6.904657695123031,11.404943108949471,-13.521565196774286,5.273436335476922,-6.565357391875796,-2.9446264607250843,-0.6862642491331687,0.40558210609859735,-0.6918129024608355,3.0557242222439296,-14.929676762738378,5.986277060341616,-1.9575577531912174,12.148945230025872,2.272482982518925,-1.8882416514256928,-14.37189261415153,0.5370422621619273,-2.7977664315312474,-1.6151392409984329,-0.4836016162373671,0.8829759562871775,2.6467556883704884,-5.59045911672882,3.875244885366037,0.4869770669115354,9.705195012630515,-7.463110228201234,-0.5948918195770645,4.3073415344099875,5.377758300745812,9.690638094958313,-1.7164267995202422,4.257230901253205,-1.8571062788437906,2.7927355251750203,11.466102140374623,4.012041565770273,10.831495785735424,-14.705008687756909,5.199573674086551,2.5888573541160174,12.11719896941768,-4.54521853539547,4.280680541013021,-5.392583794481595,0.4723636762361796,4.696493774992166,-3.1246429741561936,10.069215772908406,11.491270465260568,0.4032795197717043,-2.184180173215106,-15.513929523211942,5.883982005265898,5.4871176681375164,11.864027213255289,2.5244705308883315,6.38881891510507,2.3108468850419968,-14.117345837626317,-2.1716794648247966,-0.1572137825526312,0.32989219511280865,6.206333381162429,1.4548801202119535,5.171712965488982,3.976931570779257,1.0083152944716467,5.20822434443837,11.66881492134431],\"name\":\"prediction\"};\n",
       "  var data1 = {\"type\":\"scatter\",\"x\":[0.0,1.0,2.0,3.0,4.0,5.0,6.0,7.0,8.0,9.0,10.0,11.0,12.0,13.0,14.0,15.0,16.0,17.0,18.0,19.0,20.0,21.0,22.0,23.0,24.0,25.0,26.0,27.0,28.0,29.0,30.0,31.0,32.0,33.0,34.0,35.0,36.0,37.0,38.0,39.0,40.0,41.0,42.0,43.0,44.0,45.0,46.0,47.0,48.0,49.0,50.0,51.0,52.0,53.0,54.0,55.0,56.0,57.0,58.0,59.0,60.0,61.0,62.0,63.0,64.0,65.0,66.0,67.0,68.0,69.0,70.0,71.0,72.0,73.0,74.0,75.0,76.0,77.0,78.0,79.0,80.0,81.0,82.0,83.0,84.0,85.0,86.0,87.0,88.0,89.0,90.0,91.0,92.0,93.0,94.0,95.0,96.0,97.0,98.0,99.0,100.0,101.0,102.0,103.0,104.0,105.0,106.0,107.0,108.0,109.0,110.0,111.0,112.0,113.0,114.0,115.0,116.0,117.0,118.0,119.0,120.0,121.0,122.0,123.0,124.0,125.0,126.0,127.0,128.0,129.0,130.0,131.0,132.0,133.0,134.0,135.0,136.0,137.0,138.0,139.0,140.0,141.0,142.0,143.0,144.0,145.0,146.0,147.0,148.0,149.0],\"y\":[7.0887174,-6.6488336,1.3097657,-5.4677192,8.879597,0.5759764,6.9868772,-14.2752,-25.496883,2.4558209,-0.01585057,-9.1098026,-11.821141,1.4949945,2.8328359,-8.3596439,19.788724,1.8262313,-1.6278779,9.3569256,-6.3361141,-11.438209,2.26773,-6.2717687,16.664973,5.4564557,-16.601525,-0.19194773,7.3634771,-7.9847972,0.8413647,7.321542,-3.9400823,1.5507389,5.2635498,3.6535214,-7.4149324,4.565747,9.7424533,10.563553,-5.0929726,1.5522667,-3.5609573,2.5843997,-9.0392924,-5.0195118,5.7098848,10.216238,10.006393,-14.970309,-6.7806596,19.451004,-8.6291743,-1.133289,16.647087,-3.3443781,25.607553,-19.22561,3.079529,-9.2362868,-2.1666518,1.4661353,9.0010737,-4.2491447,0.78289671,-4.7843656,-6.3331345,-4.0905619,-3.5138303,5.2949746,14.33784,18.899257,6.2670923,21.943682,-3.9560745,-13.410109,-5.3756579,-3.1878678,8.7244855,-12.160641,20.711627,-11.141173,-0.18288778,-11.987174,-9.5474606,-1.5581771,-11.123535,-7.5211539,-4.341278,-11.073149,5.2470613,0.58115095,30.430512,0.53958871,-4.5455824,-4.7831224,3.1380058,-10.744844,0.53544639,-6.905279,1.584951,4.8820055,-5.5829683,-4.6698264,12.267529,-5.2155277,-15.379571,7.910482,11.691854,14.659047,8.5409437,-1.8453196,7.7448307,-8.2648927,-3.9104836,21.670256,-1.0840106,12.902442,-15.167126,0.58770455,5.4078014,24.530535,-7.1457525,-6.2579855,-3.1620106,0.90797673,5.2672431,-6.4154674,5.7287844,21.712374,-3.1466554,-6.0673208,-11.678548,13.809188,9.7245355,28.102968,8.8064694,-4.0375464,-9.2295978,-15.805793,-2.6921023,-0.49559519,2.985952,5.4103842,-4.9285353,1.9453618,-1.576797,6.0896994,-2.347801,21.458954],\"name\":\"actual\"};\n",
       "  var data2 = {\"type\":\"scatter\",\"x\":[0.0,1.0,2.0,3.0,4.0,5.0,6.0,7.0,8.0,9.0,10.0,11.0,12.0,13.0,14.0,15.0,16.0,17.0,18.0,19.0,20.0,21.0,22.0,23.0,24.0,25.0,26.0,27.0,28.0,29.0,30.0,31.0,32.0,33.0,34.0,35.0,36.0,37.0,38.0,39.0,40.0,41.0,42.0,43.0,44.0,45.0,46.0,47.0,48.0,49.0,50.0,51.0,52.0,53.0,54.0,55.0,56.0,57.0,58.0,59.0,60.0,61.0,62.0,63.0,64.0,65.0,66.0,67.0,68.0,69.0,70.0,71.0,72.0,73.0,74.0,75.0,76.0,77.0,78.0,79.0,80.0,81.0,82.0,83.0,84.0,85.0,86.0,87.0,88.0,89.0,90.0,91.0,92.0,93.0,94.0,95.0,96.0,97.0,98.0,99.0,100.0,101.0,102.0,103.0,104.0,105.0,106.0,107.0,108.0,109.0,110.0,111.0,112.0,113.0,114.0,115.0,116.0,117.0,118.0,119.0,120.0,121.0,122.0,123.0,124.0,125.0,126.0,127.0,128.0,129.0,130.0,131.0,132.0,133.0,134.0,135.0,136.0,137.0,138.0,139.0,140.0,141.0,142.0,143.0,144.0,145.0,146.0,147.0,148.0,149.0],\"y\":[1.3523674307280418E-35,0.010096265346166046,4.1883121659613085E-7,2.8311102762662367E-39,0.08209775159587651,1.170020930220679E-72,1.9901531157390334E-98,0.05457451288691799,0.05816889960275844,2.6331618312977172E-46,2.3999494488542013E-52,0.08963931992895546,0.8394114705711893,1.5704654561363397E-21,8.493195308094651E-89,0.041497777611956096,1.8414923948509597E-4,1.93265014123773E-27,7.486655124418623E-12,1.5608618649839693E-16,5.894685543922013E-8,0.3257442905697452,2.275658963275535E-8,0.6456102705233963,0.005154397298005303,5.2118043378791985E-30,0.02990595327464427,5.28069748009265E-19,8.60935840563513E-97,0.6065306597126334,4.018806517649363E-79,0.622643137961181,1.49472181190651E-20,0.10946451792291273,6.323304655407101E-74,4.175374741735658E-65,7.124277348024154E-76,3.782692936916712E-20,1.3249827678342479E-97,2.556973420265682E-97,2.7352547739131594E-31,1.0677877432787691E-37,1.5234972807921755E-73,0.933719419337127,7.520653427667344E-4,2.3047327317894907E-43,7.267937676783836E-13,4.166586461880173E-107,0.021322272427350047,4.219412994062601E-5,6.187451442792178E-69,4.324524749576841E-5,0.730146994316618,2.351918041942191E-75,2.0147807301622395E-106,5.259785612302084E-24,3.89229150842475E-6,0.2241927983855952,4.0129903299796516E-47,0.808209308412384,0.14777994115874463,3.454298258391999E-51,2.4798866423452095E-104,3.0420674923616516E-59,7.8071815633385555E-16,9.502934521691388E-72,0.9949280164685845,0.0033732997388137512,5.088124853334284E-17,1.9519734168669975E-20,9.74199534580855E-106,4.937495226485471E-6,4.137548273853968E-31,4.2121381144395357E-4,3.4405174287029335E-7,0.007908880006560542,6.564968017543996E-7,9.206203829540854E-63,1.730664497179503E-59,0.394832852532671,3.4959326090134186E-4,8.537758876154943E-4,0.3357255067179701,6.58538506073453E-5,1.0508631153643514E-10,8.581154661730896E-12,1.578131845441204E-50,8.282173136575429E-7,6.337089111472431E-28,0.0034281594666460873,0.2951214123648055,0.7376573984205075,7.710294800191948E-7,0.5042504724348268,3.415719175593408E-39,0.09776350100791968,7.695747221490104E-30,8.637122784860156E-11,0.7189044066383017,7.020580075015491E-12,3.125352603575983E-51,3.49122176030632E-76,0.8013505589077086,1.0836004977070735E-70,9.061401912243424E-19,0.07540384001566827,0.35944866539252146,0.6628828434132282,1.7852521146420078E-101,1.6004353811334828E-105,0.07631026714518835,1.6160048342212169E-34,2.8012515284117562E-101,1.3322248964798865E-7,7.259883238548675E-95,2.453799682335139E-4,1.5659799024893084E-14,0.008153353742160625,0.0022915793558509097,4.278723348171579E-63,9.303462610622776E-94,1.2362795946788692E-6,0.8782820791931919,3.4627967822718374E-57,0.9235237792539039,7.395154135318956E-20,0.3683963103720577,0.8013632842569535,0.05256704196391976,2.1164832954545464E-4,1.0939584062691725E-19,1.012671700595794E-40,0.04936151183764266,2.109381144552139E-107,2.3628743185747558E-24,1.714034420384524E-5,2.193995255538143E-93,0.27205650597573083,4.063507049998147E-78,0.0012644990671672597,1.1741740106571406E-40,5.088269431388103E-12,2.044398755846215E-50,0.28252587217945263,0.5496750742842386,1.3484381715862075E-63,1.824164759359847E-14,1.8930234500039685E-29,7.474025846400206E-63,7.043277319530774E-5],\"name\":\"RBOutput0\"};\n",
       "  var data3 = {\"type\":\"scatter\",\"x\":[0.0,1.0,2.0,3.0,4.0,5.0,6.0,7.0,8.0,9.0,10.0,11.0,12.0,13.0,14.0,15.0,16.0,17.0,18.0,19.0,20.0,21.0,22.0,23.0,24.0,25.0,26.0,27.0,28.0,29.0,30.0,31.0,32.0,33.0,34.0,35.0,36.0,37.0,38.0,39.0,40.0,41.0,42.0,43.0,44.0,45.0,46.0,47.0,48.0,49.0,50.0,51.0,52.0,53.0,54.0,55.0,56.0,57.0,58.0,59.0,60.0,61.0,62.0,63.0,64.0,65.0,66.0,67.0,68.0,69.0,70.0,71.0,72.0,73.0,74.0,75.0,76.0,77.0,78.0,79.0,80.0,81.0,82.0,83.0,84.0,85.0,86.0,87.0,88.0,89.0,90.0,91.0,92.0,93.0,94.0,95.0,96.0,97.0,98.0,99.0,100.0,101.0,102.0,103.0,104.0,105.0,106.0,107.0,108.0,109.0,110.0,111.0,112.0,113.0,114.0,115.0,116.0,117.0,118.0,119.0,120.0,121.0,122.0,123.0,124.0,125.0,126.0,127.0,128.0,129.0,130.0,131.0,132.0,133.0,134.0,135.0,136.0,137.0,138.0,139.0,140.0,141.0,142.0,143.0,144.0,145.0,146.0,147.0,148.0,149.0],\"y\":[6.824201229252319E-5,3.8499178616141795E-15,2.981263029879262E-6,1.1671563016590666E-6,1.5422089995345993E-49,9.1029391540409E-30,9.601582314792975E-53,3.9239086319039945E-18,2.877945204235135E-18,1.3657270543123906E-10,1.9055437522363485E-14,3.0792971029935894E-19,1.2881663279702845E-36,0.818732000538068,8.488355245142371E-44,1.4131916328038082E-17,4.750013022256876E-67,0.06680987326750676,0.02066570011219723,0.6065306597126334,2.6738170438999937E-5,4.6697247589873054E-23,6.897630165825877E-5,2.1642629652702903E-26,1.857423477691013E-58,0.010992199468815453,5.943725507124199E-17,0.9864880924083727,3.3773827514589607E-51,5.366164948492169E-26,3.1751956088901116E-35,1.935819737896734E-39,0.9470962279250283,2.0120844849524694E-48,8.091645316702345E-31,1.03415806180229E-23,1.8786244316849953E-32,0.9796490979810415,5.7774635082494054E-52,1.0750119682514509E-51,0.003911580631419311,7.103312265810814E-6,1.681931916747038E-30,4.989243150382144E-35,7.46023909508071E-12,7.258396596624695E-9,0.06012319774966192,4.13045962281194E-61,3.374439438193856E-54,3.2048081965147184E-9,9.79123319113827E-27,2.1068602173510446E-70,4.302945452956205E-38,5.140900052998242E-32,1.9289909168684457E-60,0.39239898313957594,1.230958603179561E-75,9.43644471684043E-22,4.340139928356472E-11,4.64350956503445E-37,3.4085192359132836E-47,1.1200641902637307E-13,2.087089823584337E-58,2.748344327018938E-19,0.45899732463860826,5.102639460775576E-29,9.097526854973101E-32,1.3072788724720982E-13,0.7082776160407813,0.9578830326874602,8.975478734240061E-60,3.9025006748251013E-75,0.00454528145571533,4.77388747880234E-65,3.774783012408082E-6,8.88564755095353E-15,1.713585252902181E-6,6.52185476231016E-22,1.8178101346202868E-19,7.818423717407796E-24,1.665863645989516E-65,5.4528768644760706E-12,2.485734976310873E-43,1.4063148242071943E-9,0.004641036479423621,0.019280153100753455,3.0294495077966433E-13,1.2765678151851432E-6,0.04895200849690019,1.246120096675212E-13,5.27646340774816E-44,5.370566164864127E-38,5.723776717899496E-79,6.16449023336523E-41,1.2842240509515904E-6,1.9061265608280403E-19,0.012521125834072748,0.00524470915436694,3.094024668919683E-38,0.021346562654001113,1.0486282642847861E-13,1.028056430356627E-32,4.489810692902291E-28,3.726542475533638E-28,0.9712180070420137,7.386788060125261E-50,1.9176378990875234E-23,6.126422747591039E-39,1.1902626250721827E-55,1.4556618122405349E-59,8.186744773936655E-50,2.0299878363103227E-4,1.833585372161828E-55,1.119547569783958E-5,2.1648074652583886E-49,2.3089352298426767E-66,0.2256038890471069,3.898839075650736E-57,3.996678821497684E-13,3.6412483270106717E-22,2.333021721056597E-48,5.201785738786552E-78,5.058367283751301E-36,8.441234982909138E-18,3.1278902872178915E-35,0.9939330925448212,7.977416350591813E-43,3.7372813225842285E-37,3.60431791216068E-51,1.0200822503130591E-66,0.9984338381996483,2.0605696146210758E-7,6.3336357360376625E-18,2.1203992866727597E-61,0.3404969578676539,1.8521820541618568E-72,5.1771411882173116E-48,2.0562020878224197E-44,2.3188879158493243E-34,2.0033828370491077E-12,2.228961260474507E-7,0.02504299965898665,3.585456336995151E-13,3.173774411198057E-44,2.359894908354188E-40,1.5074461557195567E-22,0.21604728149345895,0.016815237248392696,5.56664862455916E-22,2.709123137471026E-69],\"name\":\"RBOutput1\"};\n",
       "  var data4 = {\"type\":\"scatter\",\"x\":[0.0,1.0,2.0,3.0,4.0,5.0,6.0,7.0,8.0,9.0,10.0,11.0,12.0,13.0,14.0,15.0,16.0,17.0,18.0,19.0,20.0,21.0,22.0,23.0,24.0,25.0,26.0,27.0,28.0,29.0,30.0,31.0,32.0,33.0,34.0,35.0,36.0,37.0,38.0,39.0,40.0,41.0,42.0,43.0,44.0,45.0,46.0,47.0,48.0,49.0,50.0,51.0,52.0,53.0,54.0,55.0,56.0,57.0,58.0,59.0,60.0,61.0,62.0,63.0,64.0,65.0,66.0,67.0,68.0,69.0,70.0,71.0,72.0,73.0,74.0,75.0,76.0,77.0,78.0,79.0,80.0,81.0,82.0,83.0,84.0,85.0,86.0,87.0,88.0,89.0,90.0,91.0,92.0,93.0,94.0,95.0,96.0,97.0,98.0,99.0,100.0,101.0,102.0,103.0,104.0,105.0,106.0,107.0,108.0,109.0,110.0,111.0,112.0,113.0,114.0,115.0,116.0,117.0,118.0,119.0,120.0,121.0,122.0,123.0,124.0,125.0,126.0,127.0,128.0,129.0,130.0,131.0,132.0,133.0,134.0,135.0,136.0,137.0,138.0,139.0,140.0,141.0,142.0,143.0,144.0,145.0,146.0,147.0,148.0,149.0],\"y\":[2.388303392534553E-39,0.6259087810929479,2.9540424516066703E-4,2.4150689206390545E-44,5.2395667031962316E-8,2.3409686844067842E-91,7.121982131831346E-129,0.9852139245620052,0.9904566297166704,5.0569282072066616E-54,1.88467388876053E-62,0.9946357319293655,0.001143043395895084,6.847062773533124E-21,9.094704534665511E-115,0.9515822108752843,1.7667903032230817E-15,1.6954525126840682E-28,3.0557950042137013E-9,1.0388395739346784E-14,4.35702547568234E-5,0.6065306597126334,1.673293498237056E-5,0.2272684298340379,1.2485570962043807E-11,7.055797138752829E-32,0.8922242790636653,9.90126778877388E-18,1.8005174597339347E-126,0.26117932982678765,1.0754180676899709E-100,1.671390713640817E-4,1.166814768130122E-19,1.3829782944775824E-7,3.493362716022024E-93,1.5955325164040109E-80,5.388458560001784E-96,3.7305140280489536E-19,1.1536185634332268E-127,3.02928549824325E-127,1.4135692130613964E-33,3.387425499730647E-42,1.2411098060752918E-92,0.0031226503073118646,0.1509773048501094,5.929325481942797E-50,2.1712407715946252E-10,1.1671692615694896E-141,7.575509152341768E-10,0.017871378765197524,5.2637332067686915E-86,4.621823993543351E-17,4.27061930744736E-4,3.02389018718789E-95,1.1958973445367708E-140,4.814563893950989E-24,1.30607113026805E-19,0.781099129009835,3.710740096314862E-55,8.547994821265679E-4,3.945608590833758E-7,7.91587908748647E-61,1.450283211730463E-137,3.51846143994979E-72,7.190244425285148E-14,4.773534871335718E-90,0.020276200170963855,0.37154355850618914,2.6759428356874226E-15,1.6302963224935708E-19,1.2241572412436747E-139,2.311867763387571E-19,2.4508574932298763E-33,1.4848108990501188E-14,2.4473534600874964E-4,0.5641185319563438,4.525512297671321E-4,3.511133223186895E-77,1.5812806777115692E-72,0.5028852437047941,9.160963274294195E-15,0.16402337885005697,9.140282630395198E-6,0.025533870018801127,5.707916311369839E-8,3.5611848474088296E-9,6.634240940949852E-60,5.631146606082419E-4,3.9361296667540473E-29,0.3747599590635547,5.379405304794942E-6,4.5602215303462473E-4,2.796527782681619E-21,5.649117088804683E-5,3.1201776546698476E-44,0.9880805525712663,1.1815499186934013E-31,4.605410035074244E-8,3.871951636792761E-4,2.8430411173353404E-9,6.880867794455342E-61,1.922732913204323E-96,0.11791031627975351,1.5807748758410358E-88,1.9301168266749097E-17,3.9544630442069396E-8,0.554327422332501,2.3784256766512039E-4,2.3497086341177608E-133,2.5465409339533964E-139,4.1133460585346244E-8,6.765697196037032E-38,4.560482672907093E-133,9.753516719025942E-5,1.2042711531607494E-123,3.681623784281288E-15,2.5234625480769954E-12,4.565312978790002E-11,0.29997869049154613,1.1786466920293689E-77,5.059538710653417E-122,8.516092977222107E-21,0.0016759583775008908,2.866859339257941E-69,0.002755518666990232,8.613698594643133E-19,1.3550166306583722E-5,8.031008645543675E-4,1.228315250489468E-8,2.520799715421903E-15,1.4029744406047693E-18,2.541464216726697E-46,0.9748816312242775,4.2710922816793815E-142,1.7212557027953347E-24,4.726677172932918E-18,1.7778125650780706E-121,3.882672949338445E-6,3.066960238404692E-99,0.21045975877359155,3.112511554441563E-46,1.979463190771924E-9,9.528098770706179E-60,4.513389543219801E-6,8.663104106462333E-5,2.2729676038596087E-78,3.019258291139825E-12,3.880991225134727E-31,2.6091691792778944E-77,1.5589958903963657E-16],\"name\":\"RBOutput2\"};\n",
       "  var data5 = {\"type\":\"scatter\",\"x\":[0.0,1.0,2.0,3.0,4.0,5.0,6.0,7.0,8.0,9.0,10.0,11.0,12.0,13.0,14.0,15.0,16.0,17.0,18.0,19.0,20.0,21.0,22.0,23.0,24.0,25.0,26.0,27.0,28.0,29.0,30.0,31.0,32.0,33.0,34.0,35.0,36.0,37.0,38.0,39.0,40.0,41.0,42.0,43.0,44.0,45.0,46.0,47.0,48.0,49.0,50.0,51.0,52.0,53.0,54.0,55.0,56.0,57.0,58.0,59.0,60.0,61.0,62.0,63.0,64.0,65.0,66.0,67.0,68.0,69.0,70.0,71.0,72.0,73.0,74.0,75.0,76.0,77.0,78.0,79.0,80.0,81.0,82.0,83.0,84.0,85.0,86.0,87.0,88.0,89.0,90.0,91.0,92.0,93.0,94.0,95.0,96.0,97.0,98.0,99.0,100.0,101.0,102.0,103.0,104.0,105.0,106.0,107.0,108.0,109.0,110.0,111.0,112.0,113.0,114.0,115.0,116.0,117.0,118.0,119.0,120.0,121.0,122.0,123.0,124.0,125.0,126.0,127.0,128.0,129.0,130.0,131.0,132.0,133.0,134.0,135.0,136.0,137.0,138.0,139.0,140.0,141.0,142.0,143.0,144.0,145.0,146.0,147.0,148.0,149.0],\"y\":[0.6065306597126334,3.011033253548476E-23,1.1607577161870916E-12,0.21394881516685416,2.184725040330927E-58,1.159089485886197E-12,1.467439782150496E-26,1.5316717302367522E-26,1.0936107146681369E-26,0.008015230173172112,1.5669335125912263E-4,9.737391236922062E-28,1.1203565540845497E-45,0.06385520661710448,5.300917930087228E-21,6.187159097424479E-26,3.802234859714981E-75,0.7065643201610026,4.7313289869156696E-7,7.233014352172274E-4,2.17769070895209E-11,8.320760825763504E-32,8.026689444009173E-11,2.744356778164285E-35,5.6209811874039576E-67,0.9741404280464899,2.981654432915717E-25,0.009331222667560956,1.372156808414662E-25,7.03651044061368E-35,7.724328918920113E-16,1.7360416507955878E-48,0.03265872847792982,2.647857938787754E-57,2.8867159152055956E-13,2.821194613509672E-9,3.264732098899224E-14,0.024125442566579103,4.533311561592646E-26,6.693861167455201E-26,0.9980559148938732,0.3562453137026054,4.39895750574493E-13,4.3615122885681705E-44,1.6397715803758973E-19,0.03819842158453531,3.2508617127342396E-6,7.08936530849508E-32,6.858460880530593E-63,2.1550363107765417E-16,6.032397705270901E-11,2.6017503350750806E-78,3.7798090786326724E-47,5.861349690399682E-14,1.9032461412841622E-31,0.2401070855915131,3.153897467911608E-83,1.9961871921166455E-30,0.004973611581157022,4.044824332808758E-46,4.161080758934826E-56,3.573298228342398E-4,3.7958251654947134E-30,6.306528809208976E-7,3.041198091211267E-4,3.1008535792696956E-12,8.50232655136582E-41,1.587735825056895E-21,0.0012711197846071531,0.029984719304882786,5.090599085045328E-31,9.2991933559594E-83,0.9997612518883957,2.990460999895097E-73,1.5829435659586747E-12,7.669983378007776E-23,5.630072527389106E-13,2.6369853224347436E-8,5.093757839894992E-7,1.2716837913826617E-32,1.1025921003346623E-73,1.1403293653830432E-19,2.5058745957803547E-52,7.966656556826134E-17,4.0006652796975143E-8,4.197321768197791E-7,5.634563108221991E-4,3.841415026116984E-13,0.773129886451195,1.5037571110990417E-21,5.471602958454828E-53,4.712622128212017E-47,2.4079337080197304E-86,5.726996279897461E-50,0.22015308659660207,5.807282620104234E-28,0.9647503555631447,4.861758131959944E-8,2.722450426241526E-47,5.004520828293872E-7,3.4664237278721075E-4,2.2979218409991945E-14,5.025155863322939E-37,9.585868658895937E-12,0.007550184424366536,1.0697739145620665E-58,3.2620536508477893E-32,5.445238335273738E-48,2.143893697911996E-28,6.934668605364091E-31,1.181947550828881E-58,0.7428197613633376,2.818937895936823E-28,6.711791734693479E-12,1.848174703326691E-24,1.697144260515817E-74,4.9906715408371466E-5,1.036006159383147E-65,5.660722343483513E-21,1.9308645448579567E-8,8.118923158028503E-24,1.8930082930218272E-85,4.3991326854569556E-45,3.6182917882348856E-6,2.729972084204268E-44,0.019193373617769707,7.884726927423476E-52,3.2570305999948193E-46,5.739027881212039E-60,7.834478242475012E-75,0.01672659840040072,0.12394516435930215,2.578786804202465E-26,4.622459086866799E-32,0.2781026880166351,3.024175482453546E-80,1.3321769250939046E-23,2.171544590251488E-53,2.4943668355714924E-15,3.589601962578295E-20,0.1271819144778629,6.611488055362712E-7,6.082855250526293E-4,3.323395115967921E-53,2.159240551522435E-49,1.2028126256684488E-8,4.519365349994451E-5,0.9377967918593532,2.4230826405134464E-8,2.8895851110045154E-77],\"name\":\"RBOutput3\"};\n",
       "  var data6 = {\"type\":\"scatter\",\"x\":[0.0,1.0,2.0,3.0,4.0,5.0,6.0,7.0,8.0,9.0,10.0,11.0,12.0,13.0,14.0,15.0,16.0,17.0,18.0,19.0,20.0,21.0,22.0,23.0,24.0,25.0,26.0,27.0,28.0,29.0,30.0,31.0,32.0,33.0,34.0,35.0,36.0,37.0,38.0,39.0,40.0,41.0,42.0,43.0,44.0,45.0,46.0,47.0,48.0,49.0,50.0,51.0,52.0,53.0,54.0,55.0,56.0,57.0,58.0,59.0,60.0,61.0,62.0,63.0,64.0,65.0,66.0,67.0,68.0,69.0,70.0,71.0,72.0,73.0,74.0,75.0,76.0,77.0,78.0,79.0,80.0,81.0,82.0,83.0,84.0,85.0,86.0,87.0,88.0,89.0,90.0,91.0,92.0,93.0,94.0,95.0,96.0,97.0,98.0,99.0,100.0,101.0,102.0,103.0,104.0,105.0,106.0,107.0,108.0,109.0,110.0,111.0,112.0,113.0,114.0,115.0,116.0,117.0,118.0,119.0,120.0,121.0,122.0,123.0,124.0,125.0,126.0,127.0,128.0,129.0,130.0,131.0,132.0,133.0,134.0,135.0,136.0,137.0,138.0,139.0,140.0,141.0,142.0,143.0,144.0,145.0,146.0,147.0,148.0,149.0],\"y\":[1.4098996587922885E-7,0.012887303239997427,0.7097433679687695,4.6072759269499875E-9,2.2593141013004476E-13,8.37047010661227E-25,1.3524038477635325E-38,0.002179503161927026,0.0020058666630574885,4.433434137702972E-12,7.992917163641225E-15,0.0010949359152924083,5.410181514837169E-9,0.009431889169641673,2.512252296920364E-33,0.0030638177885381735,1.2545320156037993E-19,1.4022649690563187E-4,0.773469597812839,0.15299249285900368,0.8750743425178891,9.123607615182041E-5,0.9331245632768937,9.331103587224975E-6,1.6020647585847323E-16,1.7908371406761407E-5,0.004465263011303889,0.04298321467892785,1.0830719532039501E-37,1.227638935159794E-5,3.638901042194865E-28,6.298095004346608E-10,0.017373564149487902,5.514248096037527E-13,1.8607129761499862E-25,5.5988597587567836E-21,1.8191317973124426E-26,0.022160257385548367,3.8566368553160534E-38,5.54418548808157E-38,6.1540912167068155E-6,2.0359986472419303E-8,2.9295937006238935E-25,1.786129058676337E-8,0.07540442743067635,8.603099971082374E-11,0.6065306597126334,1.930283222724821E-43,5.239140973368825E-15,0.25402465646925587,6.659307559176677E-23,7.41549997712936E-21,1.7645855706535528E-9,3.383679997973662E-26,4.685896599647532E-43,0.0017892632222767104,8.650242557291951E-23,2.1698009192628714E-4,1.919209036908994E-12,3.868897825948286E-9,1.467459219784773E-12,2.7442609188419438E-14,6.980907856750174E-42,4.259365670667732E-18,0.2094727735236807,2.452722221530379E-24,1.9958370061800844E-7,0.030184418539673342,0.12140804328764195,0.018641988651839272,1.1361749618913172E-42,1.3271471266513175E-22,7.161560507847381E-6,6.727323444163582E-19,0.7285113764094717,0.01583413036678626,0.6655699052115215,8.124054719791981E-20,3.2408864301968114E-18,5.410450684423369E-5,4.587335666716693E-19,0.07042470734188128,3.08580652225049E-11,0.21830695949213222,0.9303917431716713,0.7828182774483223,5.5165873726499095E-14,0.6421530650489652,9.602957494539602E-5,0.02984646176787048,1.8213797420178043E-11,1.8988599967643914E-9,4.974190146855363E-24,1.9871864704687E-10,4.978744251350923E-9,9.60083800548924E-4,2.0583164091618456E-5,0.9210648797378698,1.5820238475964332E-9,0.7690364988579356,2.6205962433182804E-14,1.2550750040135578E-26,2.8574485169392284E-6,8.51419062158821E-24,0.04896337513818746,1.7483904555910955E-13,7.037963906746029E-5,9.242649502364564E-10,2.7521956810193074E-40,1.5014277528041114E-42,1.8121669073569386E-13,3.717194108320775E-7,3.5367914271285293E-40,0.8128385704238257,1.2417412674255913E-36,2.233562235415188E-19,0.35384157895635515,4.750370411044255E-16,0.03914765139781783,5.566672953528649E-20,5.025613818373483E-36,1.1327911085037313E-23,8.468981756231791E-9,4.1622370141960824E-17,1.5344876944017286E-8,0.026333303453720487,4.5833427741830946E-11,3.6020683818698757E-9,6.089042333293849E-14,1.6581371202351538E-19,0.029088748494788753,1.149851996645424E-9,0.002476490760960844,1.3155391205000657E-43,0.0013994388929456654,1.2970042697789408E-21,8.036279670114756E-36,1.3208494598944872E-11,1.2257115399925386E-27,0.05643954295734566,1.2235792319042536E-9,0.7465846007587644,6.211517589797887E-14,1.5316449756071515E-11,3.117382718541673E-10,3.145451664572175E-20,0.36258236551471,2.8334477563144896E-5,7.330542529637774E-20,1.894085016785813E-20],\"name\":\"RBOutput4\"};\n",
       "  var data7 = {\"type\":\"scatter\",\"x\":[0.0,1.0,2.0,3.0,4.0,5.0,6.0,7.0,8.0,9.0,10.0,11.0,12.0,13.0,14.0,15.0,16.0,17.0,18.0,19.0,20.0,21.0,22.0,23.0,24.0,25.0,26.0,27.0,28.0,29.0,30.0,31.0,32.0,33.0,34.0,35.0,36.0,37.0,38.0,39.0,40.0,41.0,42.0,43.0,44.0,45.0,46.0,47.0,48.0,49.0,50.0,51.0,52.0,53.0,54.0,55.0,56.0,57.0,58.0,59.0,60.0,61.0,62.0,63.0,64.0,65.0,66.0,67.0,68.0,69.0,70.0,71.0,72.0,73.0,74.0,75.0,76.0,77.0,78.0,79.0,80.0,81.0,82.0,83.0,84.0,85.0,86.0,87.0,88.0,89.0,90.0,91.0,92.0,93.0,94.0,95.0,96.0,97.0,98.0,99.0,100.0,101.0,102.0,103.0,104.0,105.0,106.0,107.0,108.0,109.0,110.0,111.0,112.0,113.0,114.0,115.0,116.0,117.0,118.0,119.0,120.0,121.0,122.0,123.0,124.0,125.0,126.0,127.0,128.0,129.0,130.0,131.0,132.0,133.0,134.0,135.0,136.0,137.0,138.0,139.0,140.0,141.0,142.0,143.0,144.0,145.0,146.0,147.0,148.0,149.0],\"y\":[1.181799769331297E-34,1.1903502052184263E-5,2.0618307554338578E-10,1.4903032840876978E-37,0.8671075067537445,5.102814560184517E-63,4.5952943316615096E-82,1.1247342722312651E-4,1.2316388345756123E-4,4.9921572955477595E-43,1.12707206269525E-47,2.3158770218616577E-4,0.17937232676956277,2.98208056537918E-23,5.456786064564954E-75,7.660977081262987E-5,0.6065306597126334,4.065622896589185E-28,6.990575225503352E-15,5.172031632961618E-19,3.027935051172496E-11,0.0019624545996490893,1.2100808176419277E-11,0.008722219643301735,0.9624817482542416,3.396169658997104E-30,4.8956065857793926E-5,3.984430322690008E-21,7.262723590566106E-81,0.007426449185879583,7.832645693110042E-68,0.3020258791452389,1.968004951988571E-22,0.8145745810780035,5.7788383580220884E-64,2.346649690090017E-57,2.040446035331497E-65,4.296253358313029E-22,1.8425680199432168E-81,2.982942946207686E-81,3.181026027498056E-31,2.5845742804615302E-36,1.1137773581702554E-63,0.1270178068938366,5.385406916708304E-7,9.541081962936342E-41,8.575562114203525E-16,2.1012918383647174E-88,0.994804182385293,2.2939062117499032E-8,3.118322564058574E-60,0.44672556420108994,0.23890773436100607,4.966817179710858E-65,6.627021204956526E-88,2.6342809225441523E-25,0.24488554193474188,0.0010007228835926267,1.166845419724531E-43,0.19614694669530483,0.7496466724605477,8.694936419519566E-47,2.217428430750917E-86,6.291948598457762E-53,2.084269199249409E-18,2.4409325850215667E-62,0.05484510811734146,3.098187240533023E-6,1.9688309894436117E-19,2.462682755190862E-22,2.090827575014778E-87,0.2610010785195131,4.433272381463197E-31,0.705182751060093,1.6977189827674632E-10,8.766442471966917E-6,3.2199134382492205E-10,1.3704349155928372E-55,4.103139480934426E-53,0.002856039239772101,0.6828137056245392,6.222666420244622E-7,0.5204551671125839,3.685872926862029E-8,7.786374030286299E-14,7.910116481424328E-15,2.789203111492121E-46,4.05833199200577E-10,1.6440353829845535E-28,3.1586765555031347E-6,0.5612609597585072,0.23471057114365154,0.1553284237264864,0.3808597248968716,1.7267853823253014E-37,2.638439375924616E-4,4.648535928447898E-30,6.501686818489682E-14,0.2452334217028966,6.595454228384009E-15,8.052674047995417E-47,1.1997088033748079E-65,0.016604613874588087,1.5071764897711968E-61,6.300429149058888E-21,0.880836861035739,0.0023710153737748992,0.2776465235183804,2.7088441353024285E-84,3.0028995727385392E-87,0.8789571447627312,8.448058309809793E-34,3.76543047054096E-84,6.690050960241894E-11,1.878757458704139E-79,0.6404774105035681,2.859749927981177E-17,0.9871909264644451,1.956288554798788E-6,7.686559578484219E-56,1.222428889429232E-78,0.17803154783228736,0.15837356726453244,2.289297221966602E-51,0.13303469737192852,7.5580904184440325E-22,0.49001534116371437,0.1998385729757657,0.9301481047135377,0.6229309152253665,1.0517296571439668E-21,1.0973767482122313E-38,9.760130818481477E-5,1.279644473846214E-88,1.3622960353831144E-25,0.35892025082011564,2.2958121077870603E-78,0.58613443345439,4.3691039619329E-67,9.769880071204368E-7,1.2319994437155406E-38,4.929842245161884E-15,3.402426794965936E-46,0.574679137965635,0.34918135886837437,3.2171106204035336E-56,3.2702542141209696E-17,9.604218636808858E-30,1.1709330796081053E-55,0.49784105746190294],\"name\":\"RBOutput5\"};\n",
       "  var data8 = {\"type\":\"scatter\",\"x\":[0.0,1.0,2.0,3.0,4.0,5.0,6.0,7.0,8.0,9.0,10.0,11.0,12.0,13.0,14.0,15.0,16.0,17.0,18.0,19.0,20.0,21.0,22.0,23.0,24.0,25.0,26.0,27.0,28.0,29.0,30.0,31.0,32.0,33.0,34.0,35.0,36.0,37.0,38.0,39.0,40.0,41.0,42.0,43.0,44.0,45.0,46.0,47.0,48.0,49.0,50.0,51.0,52.0,53.0,54.0,55.0,56.0,57.0,58.0,59.0,60.0,61.0,62.0,63.0,64.0,65.0,66.0,67.0,68.0,69.0,70.0,71.0,72.0,73.0,74.0,75.0,76.0,77.0,78.0,79.0,80.0,81.0,82.0,83.0,84.0,85.0,86.0,87.0,88.0,89.0,90.0,91.0,92.0,93.0,94.0,95.0,96.0,97.0,98.0,99.0,100.0,101.0,102.0,103.0,104.0,105.0,106.0,107.0,108.0,109.0,110.0,111.0,112.0,113.0,114.0,115.0,116.0,117.0,118.0,119.0,120.0,121.0,122.0,123.0,124.0,125.0,126.0,127.0,128.0,129.0,130.0,131.0,132.0,133.0,134.0,135.0,136.0,137.0,138.0,139.0,140.0,141.0,142.0,143.0,144.0,145.0,146.0,147.0,148.0,149.0],\"y\":[0.5948149976319189,5.3106648092559E-15,1.7312262592002993E-9,0.8643003162010781,6.731211733651897E-32,0.009668700329470967,9.8182207578434E-7,1.1878679084336805E-16,1.004513822199494E-16,0.9512789214897441,0.6065306597126334,3.022190254407015E-17,6.338487147703472E-26,0.00723104157148734,4.5552829510924176E-5,2.38206477436696E-16,1.2205600833007084E-39,0.09261970190162168,2.569255300245354E-6,2.5961599265154645E-4,8.607286857854522E-9,3.000687493556275E-19,1.7714438328440132E-8,6.049319301191358E-21,6.987946944517316E-36,0.198534228465107,5.226203778548333E-16,0.0015838813814417294,1.940370733788366E-6,9.550778583102519E-21,0.0013546904208357928,2.962882201058827E-27,0.0041613510008176,2.1545385475224115E-31,0.006716021117714915,0.06719208618575873,0.0037583714702132047,0.003272169794246286,1.38527253732642E-6,1.5598655622194367E-6,0.2720313328771912,0.7590786855270175,0.007503908440329918,3.611495964694845E-25,4.2442689521891304E-13,0.9994389376729355,8.20947234727184E-6,2.204463756647489E-8,5.43216727497609E-34,1.7696707478177056E-11,0.026478452081900757,4.344625568290563E-41,1.2716679532732155E-26,0.004396891458688483,3.005697841574186E-8,0.02449142669275151,2.4807957000084405E-43,1.4251016948421194E-18,0.918963319811737,3.9093024298690403E-26,7.798411088990438E-31,0.6836725483611089,7.662416708851123E-8,0.22251163146091094,1.453582508918609E-4,0.012476735263696104,1.3429384783532056E-23,3.959420427022456E-14,3.8153213726227513E-4,0.0038865388164227924,4.090899764727284E-8,4.0599129858593035E-43,0.2608991644208959,9.038238523372885E-39,2.049129621849496E-9,8.516241994492717E-15,1.1695036311261584E-9,0.11227638401179593,0.212917864750817,1.1981755380406512E-19,5.717453034556441E-39,3.521246161053843E-13,4.600204257312251E-29,1.0503373953278592E-11,6.00748588296319E-7,2.392416224566554E-6,0.726976436282554,9.51095325283121E-10,0.108453919951828,3.851455483043526E-14,2.2517910839343064E-29,1.4116391434455475E-26,9.469752244191066E-45,5.924276229208427E-28,0.8594293063879329,2.339396652450327E-17,0.18984623135497733,6.728901956904203E-7,1.0887299114039518E-26,2.656675482407052E-6,0.6807932533376391,0.003419421702519246,8.735469012061328E-22,0.016660631757969613,0.0013539449353290119,4.826199425295945E-32,1.8982435069338406E-19,5.085306198741433E-27,2.6792810544259356E-7,4.506395160548477E-8,5.055683032959655E-32,0.5076781958072295,2.915606054272154E-7,4.50801957604173E-9,4.262771661889897E-6,2.423257334600194E-39,4.4985323476961516E-5,2.6855164978805637E-35,7.566978830080739E-14,0.10466779890022322,6.6533213300020155E-6,2.4180167341443446E-44,1.21342771405267E-25,0.3151504146247433,2.889853033644615E-25,0.0027376175672437983,7.882853361304025E-29,3.527704307408124E-26,1.2365452709136664E-32,1.7001078784622068E-39,0.002462070755332213,0.9379471880423927,1.539738518903487E-16,1.927144184305344E-8,0.02852943206846895,5.677810539913265E-42,7.718454604549781E-6,1.4596374353196054E-29,0.0018701033904723035,1.9457825717793748E-13,0.9352281999362307,3.1373227229806694E-6,0.7342560681549742,1.7821056495739704E-29,1.107637587197463E-27,0.09400160339661227,4.2232590917186065E-5,0.17071914574341596,0.11016344169045823,1.306569811996818E-40],\"name\":\"RBOutput6\"};\n",
       "  var data9 = {\"type\":\"scatter\",\"x\":[0.0,1.0,2.0,3.0,4.0,5.0,6.0,7.0,8.0,9.0,10.0,11.0,12.0,13.0,14.0,15.0,16.0,17.0,18.0,19.0,20.0,21.0,22.0,23.0,24.0,25.0,26.0,27.0,28.0,29.0,30.0,31.0,32.0,33.0,34.0,35.0,36.0,37.0,38.0,39.0,40.0,41.0,42.0,43.0,44.0,45.0,46.0,47.0,48.0,49.0,50.0,51.0,52.0,53.0,54.0,55.0,56.0,57.0,58.0,59.0,60.0,61.0,62.0,63.0,64.0,65.0,66.0,67.0,68.0,69.0,70.0,71.0,72.0,73.0,74.0,75.0,76.0,77.0,78.0,79.0,80.0,81.0,82.0,83.0,84.0,85.0,86.0,87.0,88.0,89.0,90.0,91.0,92.0,93.0,94.0,95.0,96.0,97.0,98.0,99.0,100.0,101.0,102.0,103.0,104.0,105.0,106.0,107.0,108.0,109.0,110.0,111.0,112.0,113.0,114.0,115.0,116.0,117.0,118.0,119.0,120.0,121.0,122.0,123.0,124.0,125.0,126.0,127.0,128.0,129.0,130.0,131.0,132.0,133.0,134.0,135.0,136.0,137.0,138.0,139.0,140.0,141.0,142.0,143.0,144.0,145.0,146.0,147.0,148.0,149.0],\"y\":[1.4098996587922885E-7,0.012887303239997427,0.7097433679687695,4.6072759269499875E-9,2.2593141013004476E-13,8.37047010661227E-25,1.3524038477635325E-38,0.002179503161927026,0.0020058666630574885,4.433434137702972E-12,7.992917163641225E-15,0.0010949359152924083,5.410181514837169E-9,0.009431889169641673,2.512252296920364E-33,0.0030638177885381735,1.2545320156037993E-19,1.4022649690563187E-4,0.773469597812839,0.15299249285900368,0.8750743425178891,9.123607615182041E-5,0.9331245632768937,9.331103587224975E-6,1.6020647585847323E-16,1.7908371406761407E-5,0.004465263011303889,0.04298321467892785,1.0830719532039501E-37,1.227638935159794E-5,3.638901042194865E-28,6.298095004346608E-10,0.017373564149487902,5.514248096037527E-13,1.8607129761499862E-25,5.5988597587567836E-21,1.8191317973124426E-26,0.022160257385548367,3.8566368553160534E-38,5.54418548808157E-38,6.1540912167068155E-6,2.0359986472419303E-8,2.9295937006238935E-25,1.786129058676337E-8,0.07540442743067635,8.603099971082374E-11,0.6065306597126334,1.930283222724821E-43,5.239140973368825E-15,0.25402465646925587,6.659307559176677E-23,7.41549997712936E-21,1.7645855706535528E-9,3.383679997973662E-26,4.685896599647532E-43,0.0017892632222767104,8.650242557291951E-23,2.1698009192628714E-4,1.919209036908994E-12,3.868897825948286E-9,1.467459219784773E-12,2.7442609188419438E-14,6.980907856750174E-42,4.259365670667732E-18,0.2094727735236807,2.452722221530379E-24,1.9958370061800844E-7,0.030184418539673342,0.12140804328764195,0.018641988651839272,1.1361749618913172E-42,1.3271471266513175E-22,7.161560507847381E-6,6.727323444163582E-19,0.7285113764094717,0.01583413036678626,0.6655699052115215,8.124054719791981E-20,3.2408864301968114E-18,5.410450684423369E-5,4.587335666716693E-19,0.07042470734188128,3.08580652225049E-11,0.21830695949213222,0.9303917431716713,0.7828182774483223,5.5165873726499095E-14,0.6421530650489652,9.602957494539602E-5,0.02984646176787048,1.8213797420178043E-11,1.8988599967643914E-9,4.974190146855363E-24,1.9871864704687E-10,4.978744251350923E-9,9.60083800548924E-4,2.0583164091618456E-5,0.9210648797378698,1.5820238475964332E-9,0.7690364988579356,2.6205962433182804E-14,1.2550750040135578E-26,2.8574485169392284E-6,8.51419062158821E-24,0.04896337513818746,1.7483904555910955E-13,7.037963906746029E-5,9.242649502364564E-10,2.7521956810193074E-40,1.5014277528041114E-42,1.8121669073569386E-13,3.717194108320775E-7,3.5367914271285293E-40,0.8128385704238257,1.2417412674255913E-36,2.233562235415188E-19,0.35384157895635515,4.750370411044255E-16,0.03914765139781783,5.566672953528649E-20,5.025613818373483E-36,1.1327911085037313E-23,8.468981756231791E-9,4.1622370141960824E-17,1.5344876944017286E-8,0.026333303453720487,4.5833427741830946E-11,3.6020683818698757E-9,6.089042333293849E-14,1.6581371202351538E-19,0.029088748494788753,1.149851996645424E-9,0.002476490760960844,1.3155391205000657E-43,0.0013994388929456654,1.2970042697789408E-21,8.036279670114756E-36,1.3208494598944872E-11,1.2257115399925386E-27,0.05643954295734566,1.2235792319042536E-9,0.7465846007587644,6.211517589797887E-14,1.5316449756071515E-11,3.117382718541673E-10,3.145451664572175E-20,0.36258236551471,2.8334477563144896E-5,7.330542529637774E-20,1.894085016785813E-20],\"name\":\"RBOutput7\"};\n",
       "  var data10 = {\"type\":\"scatter\",\"x\":[0.0,1.0,2.0,3.0,4.0,5.0,6.0,7.0,8.0,9.0,10.0,11.0,12.0,13.0,14.0,15.0,16.0,17.0,18.0,19.0,20.0,21.0,22.0,23.0,24.0,25.0,26.0,27.0,28.0,29.0,30.0,31.0,32.0,33.0,34.0,35.0,36.0,37.0,38.0,39.0,40.0,41.0,42.0,43.0,44.0,45.0,46.0,47.0,48.0,49.0,50.0,51.0,52.0,53.0,54.0,55.0,56.0,57.0,58.0,59.0,60.0,61.0,62.0,63.0,64.0,65.0,66.0,67.0,68.0,69.0,70.0,71.0,72.0,73.0,74.0,75.0,76.0,77.0,78.0,79.0,80.0,81.0,82.0,83.0,84.0,85.0,86.0,87.0,88.0,89.0,90.0,91.0,92.0,93.0,94.0,95.0,96.0,97.0,98.0,99.0,100.0,101.0,102.0,103.0,104.0,105.0,106.0,107.0,108.0,109.0,110.0,111.0,112.0,113.0,114.0,115.0,116.0,117.0,118.0,119.0,120.0,121.0,122.0,123.0,124.0,125.0,126.0,127.0,128.0,129.0,130.0,131.0,132.0,133.0,134.0,135.0,136.0,137.0,138.0,139.0,140.0,141.0,142.0,143.0,144.0,145.0,146.0,147.0,148.0,149.0],\"y\":[0.018199416986100028,1.646388616540024E-10,6.585038397178998E-8,0.03695911254001947,1.1394083557838258E-17,0.8329529857386924,0.8313561803573087,2.9874322892876534E-11,2.7726646426576347E-11,0.11037920223045201,0.2258926185930127,1.627301990547186E-11,3.1721877000034166E-15,3.4656485463736863E-4,0.9846418464076994,4.074065278742944E-11,9.460215348366677E-21,0.0024538654289913615,2.886113864920189E-6,4.048954145059603E-5,1.4678438046751978E-7,2.1539495559127337E-12,2.114994873249021E-7,3.9938901142382945E-13,2.889653288958695E-19,0.004968483470362425,5.79006411945945E-11,1.2537115418102102E-4,0.8662087979431505,4.858541018183926E-13,0.9609051297902357,8.928659340941903E-16,2.3727560027813575E-4,1.8233575781130746E-17,0.8641713312685295,0.6065306597126334,0.9066929284246513,2.018997253423356E-4,0.8492265582805708,0.8552703448831473,0.0068709424219556454,0.027632276209757195,0.8550421266530235,6.545093426871781E-15,1.2288351926522435E-9,0.0725106447864509,5.47328416680404E-6,0.6192303093821273,1.6413500967286496E-18,7.107645506698295E-9,0.7280085334951928,2.5592444710682665E-21,1.6298402684124707E-15,0.8960599516651838,0.6366243332388867,8.385401767337637E-4,3.415497179331491E-22,4.247496749645881E-12,0.12295817419967395,2.595551078223031E-15,3.070076009141679E-17,0.19969609815346664,0.6896437993167704,0.416685207996654,2.8574976186311952E-5,0.8089937032475208,2.9787471974849776E-14,4.113037421182002E-10,5.120238143702174E-5,2.2658948989285642E-4,0.654022893504448,4.1364498416252683E-22,0.00657190783012126,2.0792710010164052E-20,7.159539056206705E-8,2.039966394479049E-10,5.4233392898295506E-8,0.5296932302260338,0.42433455567882705,1.4462832470067325E-12,1.7362166153779724E-20,1.1267429193763322E-9,1.6146590729187499E-16,5.545414203616269E-9,1.3195586430898385E-6,2.7761427907879782E-6,0.18562389435627533,4.897468036434191E-8,0.002819510772536719,4.0612627121566806E-10,1.206005980224765E-16,1.7018178698350037E-15,9.621231262771439E-23,4.60230543818349E-16,0.03642367339425999,1.4530444107401856E-11,0.0047537943722901115,1.4017466804747643E-6,1.5284027847938957E-15,2.939251979495998E-6,0.20064490169062826,0.9127945834188973,1.7463027118157962E-13,0.7796915349756048,1.1332026297975545E-4,9.962440759155236E-18,1.7655586433587717E-12,1.1158416992897521E-15,0.7605160567358051,0.6594995871537787,1.0150931383514495E-17,0.01448858517636754,0.7652450380911373,1.0607114366211316E-7,0.9034464085616424,1.2386463395519442E-20,1.4360553030004888E-5,4.938338968427146E-19,5.537305806350132E-10,0.5406011910615919,0.9226835830305513,1.3834644776827864E-22,4.155233331373867E-15,0.35440007723457145,5.964078949360313E-15,1.7932194295707503E-4,2.0125640086535963E-16,2.487281292263901E-15,5.75497008238815E-18,1.0775683423330058E-20,1.6718762276131147E-4,0.04751105134057932,3.353410930587465E-11,0.6117265668286443,9.418811175884493E-4,1.15581052786688E-21,0.9287584783991437,1.0104806413495839E-16,0.9465036481820069,8.559943679462689E-10,0.04699828480382169,3.2187368361213332E-6,0.1832883791703349,1.0961992574476994E-16,5.953047494946382E-16,0.5570604153869037,1.3846286156468981E-5,0.004287620023215146,0.5326590705312807,3.937933217658979E-21],\"name\":\"RBOutput8\"};\n",
       "  var data11 = {\"type\":\"scatter\",\"x\":[0.0,1.0,2.0,3.0,4.0,5.0,6.0,7.0,8.0,9.0,10.0,11.0,12.0,13.0,14.0,15.0,16.0,17.0,18.0,19.0,20.0,21.0,22.0,23.0,24.0,25.0,26.0,27.0,28.0,29.0,30.0,31.0,32.0,33.0,34.0,35.0,36.0,37.0,38.0,39.0,40.0,41.0,42.0,43.0,44.0,45.0,46.0,47.0,48.0,49.0,50.0,51.0,52.0,53.0,54.0,55.0,56.0,57.0,58.0,59.0,60.0,61.0,62.0,63.0,64.0,65.0,66.0,67.0,68.0,69.0,70.0,71.0,72.0,73.0,74.0,75.0,76.0,77.0,78.0,79.0,80.0,81.0,82.0,83.0,84.0,85.0,86.0,87.0,88.0,89.0,90.0,91.0,92.0,93.0,94.0,95.0,96.0,97.0,98.0,99.0,100.0,101.0,102.0,103.0,104.0,105.0,106.0,107.0,108.0,109.0,110.0,111.0,112.0,113.0,114.0,115.0,116.0,117.0,118.0,119.0,120.0,121.0,122.0,123.0,124.0,125.0,126.0,127.0,128.0,129.0,130.0,131.0,132.0,133.0,134.0,135.0,136.0,137.0,138.0,139.0,140.0,141.0,142.0,143.0,144.0,145.0,146.0,147.0,148.0,149.0],\"y\":[3.3393903957002955E-32,0.6065306597126334,0.08322298397525785,5.561671260216871E-37,4.6127717329771065E-15,1.899309309583229E-83,1.422140708479331E-121,0.18447629328682083,0.17255835145270182,2.3388387918104497E-46,1.2724518749410823E-54,0.10348859638883443,2.7429222713824633E-8,4.129624876197008E-15,3.6212342182374167E-107,0.2404138836342439,1.2307638314701814E-25,5.114831681843461E-22,2.7701749147194682E-5,9.886004400543178E-10,0.025843010049909156,0.00884977931900606,0.013914220947104306,6.392544218032043E-4,2.7442877441547597E-20,3.7128430487406887E-25,0.31639092880962405,2.512417938470028E-12,4.0920187027755135E-119,8.900078515662236E-4,7.070929579126335E-93,1.1403314347223242E-9,5.10725781765477E-14,1.949236802474839E-14,2.743507171040667E-85,1.4269304234786354E-72,3.991508166834438E-88,1.4233077625964345E-13,2.460040407212179E-120,6.60686320444117E-120,9.553590804306868E-27,6.378893041599032E-35,9.847672402409828E-85,1.5348775715854778E-7,0.9995648776350511,2.1257830121044248E-42,3.502454280229668E-6,1.0876315729882068E-134,9.553232203190711E-18,0.6244199772065121,4.577758744372812E-78,8.56713413205199E-28,5.295475076805743E-9,2.277314449346398E-87,1.1886669584414942E-133,6.0690372704856674E-18,3.136678097100547E-31,0.022073538751564845,1.8261376824277836E-47,1.6814127944480116E-8,9.363966618209222E-14,5.039901163087696E-53,1.747473586111091E-130,2.9876834697324325E-64,5.0396393919745655E-9,3.953665284868037E-82,4.450581597609857E-6,0.8657199218798957,3.1263179845652207E-10,6.861900552356605E-14,1.2968931713045025E-132,6.7445661296739485E-31,1.600828961780025E-26,2.2936665849846528E-24,0.07453220328230543,0.6714957294871374,0.10640128730327748,3.120352727265449E-69,1.3489769841563129E-64,0.004975924681255413,1.17934514684518E-24,0.9998730425625298,1.1373885077256012E-11,0.7057666424218445,2.5446984389874353E-4,3.116964921476574E-5,4.073567049840543E-52,0.12038159902858654,1.3264687519884175E-22,0.862698210669418,5.004293814266545E-12,5.9022748490593794E-9,1.852420864225465E-33,1.9945683311623335E-10,7.114207648993931E-37,0.0921265721173081,6.007337511157891E-25,2.169220366993639E-4,4.504583856018737E-9,2.6201357919489947E-5,4.39108004634092E-53,1.4097949125871514E-88,1.4739296915660898E-4,1.3371018120417754E-80,4.489734107370166E-12,3.0433821911708445E-15,0.006662970731173744,2.0248513737008336E-9,3.641663900443975E-126,2.7521826570061576E-132,3.225647226105737E-15,8.00970854646749E-31,7.18735219255239E-126,0.04280481636483879,3.1676791125183356E-116,3.368497246935983E-25,9.62945819460821E-8,1.7210077050363657E-19,0.9287261316283926,1.0495938792145515E-69,1.4430838778246218E-114,8.162176544576826E-33,5.2544952073290435E-8,2.3202871873091468E-61,1.2354183432428759E-7,2.97018032794246E-13,2.1000140794786638E-11,1.514391873146455E-8,5.454790010034714E-16,2.0032464956229667E-25,4.556559563700223E-13,6.931533300710025E-39,0.2041004523588634,3.86979697265042E-135,2.38780432323974E-18,3.9132015343400394E-29,5.20798292949339E-114,3.0277606716120597E-12,2.09819768979133E-91,0.9873952333756882,8.42798263877339E-39,1.9801826000338978E-5,5.813234551849532E-52,3.817371290886474E-12,3.9507555814843604E-10,2.0288390355487642E-70,1.1154372746441503E-7,1.8204446136238758E-24,2.3201431469820135E-69,4.471922835381544E-27],\"name\":\"RBOutput9\"};\n",
       "\n",
       "  var data = [data0, data1, data2, data3, data4, data5, data6, data7, data8, data9, data10, data11];\n",
       "  var layout = {\"title\":\"OverFitting Model Outputs vs Actual\"};\n",
       "\n",
       "  Plotly.plot('plot-891399789', data, layout);\n",
       "})();\n",
       "});\n",
       "      "
      ]
     },
     "metadata": {},
     "output_type": "display_data"
    },
    {
     "data": {
      "text/plain": [
       "\u001b[36mres16\u001b[39m: \u001b[32mString\u001b[39m = \u001b[32m\"plot-891399789\"\u001b[39m"
      ]
     },
     "execution_count": 17,
     "metadata": {},
     "output_type": "execute_result"
    }
   ],
   "source": [
    "plotLineGraphForRBFPredictionAndActualData(overfitModel, allData, \"OverFitting Model Outputs vs Actual\")"
   ]
  },
  {
   "cell_type": "code",
   "execution_count": 18,
   "metadata": {
    "collapsed": false
   },
   "outputs": [
    {
     "data": {
      "text/html": [
       "<div class=\"chart\" id=\"plot-1299780919\"></div>"
      ]
     },
     "metadata": {},
     "output_type": "display_data"
    },
    {
     "data": {
      "application/javascript": [
       "requirejs([\"plotly\"], function(Plotly) {\n",
       "  (function () {\n",
       "  var data0 = {\"type\":\"scatter\",\"x\":[0.0,1.0,2.0,3.0,4.0,5.0,6.0,7.0,8.0,9.0,10.0,11.0,12.0,13.0,14.0,15.0,16.0,17.0,18.0,19.0,20.0,21.0,22.0,23.0,24.0,25.0,26.0,27.0,28.0,29.0,30.0,31.0,32.0,33.0,34.0,35.0,36.0,37.0,38.0,39.0,40.0,41.0,42.0,43.0,44.0,45.0,46.0,47.0,48.0,49.0,50.0,51.0,52.0,53.0,54.0,55.0,56.0,57.0,58.0,59.0,60.0,61.0,62.0,63.0,64.0,65.0,66.0,67.0,68.0,69.0,70.0,71.0,72.0,73.0,74.0,75.0,76.0,77.0,78.0,79.0,80.0,81.0,82.0,83.0,84.0,85.0,86.0,87.0,88.0,89.0,90.0,91.0,92.0,93.0,94.0,95.0,96.0,97.0,98.0,99.0,100.0,101.0,102.0,103.0,104.0,105.0,106.0,107.0,108.0,109.0,110.0,111.0,112.0,113.0,114.0,115.0,116.0,117.0,118.0,119.0,120.0,121.0,122.0,123.0,124.0,125.0,126.0,127.0,128.0,129.0,130.0,131.0,132.0,133.0,134.0,135.0,136.0,137.0,138.0,139.0,140.0,141.0,142.0,143.0,144.0,145.0,146.0,147.0,148.0,149.0],\"y\":[0.8410307874284939,-10.165065755643013,-5.4134011293588316,0.6683340567305365,4.658531384338168,-4.106716771144846,6.993113086770791,-10.973060106257904,-10.99809934090095,-0.35641878652546666,-1.6969896554932404,-11.149243966475993,-5.8508385875358755,-0.6065854684518186,0.9765635963762165,-10.859086856420276,20.954893633143122,0.30811307257346243,-2.8153005125416826,-1.552821175005576,-4.779455675467375,-11.243202719087137,-4.503534619752585,-10.690709541601109,13.008716829616517,0.5950919115345883,-10.711356849112022,-1.0626678629971735,5.8519107250826465,-10.785599251234345,-2.925720104044572,-3.858594592858992,-0.7792321190211879,3.644606934075071,-3.9669088478465255,-4.079164877524235,-3.6653016459533205,-0.8517770804695672,6.41365559233347,6.215128865579601,0.7012826897080657,0.7758777181986858,-4.013680150561058,-6.8659013117733,-8.755761501649133,0.16948353950644446,-2.4779615512154862,13.600858661079862,8.991170231773502,-7.296901745053404,-4.269262130604076,23.916659169737308,-4.837133109670759,-3.755944443948053,13.054426144536059,-0.19228234368913633,28.31542618707052,-11.300384481828402,-0.5218021406098075,-5.553347083232538,2.5426980955245,-1.4259064390542449,11.407074919366366,-3.2201082017157034,-1.7049631787933563,-4.1801424181260955,-8.673028328948647,-9.572391027617499,-1.4511343397857814,-0.7999996778240472,12.511261570658121,27.907243475576635,0.6880098668886845,19.14165849138091,-5.345617297952913,-10.035012496640107,-5.571967542878596,-3.807224516676925,-3.266791512559692,-11.166038402773651,19.558366898167833,-8.823929776679066,-0.7864331353879095,-7.509260759299096,-3.266545098809587,-2.836655410414494,-1.2728601148126444,-5.655970570270227,0.36892934685716483,-9.581215898895948,-0.22356240805164873,-4.905164387624922,30.95496618664716,-2.7167509896990367,0.6751088289148086,-11.174941621623844,0.5790818814576113,-3.2300852340524813,-4.7354095644648595,-2.8053078845616426,-1.4360340630022108,-3.6075717924762074,-10.200645784367438,-4.237716712455978,-1.1068746646844971,4.951215937008222,-11.208761782510578,-4.22776222442738,9.219937150997502,12.340886797500708,4.910279879291252,0.8397081695010371,9.073403483452765,-5.031973048243444,4.564547691867062,20.336413947116263,-2.0135046875336258,11.76144328197941,-9.360757534527579,-3.852252555613177,3.854045897570039,30.20942701902499,-6.240084689703252,-2.8012367404798084,-6.740898712787214,-0.9046896535990996,-1.204377746739219,-5.489277310047967,6.1605106779871335,20.65640402012474,-0.9358112344054064,0.52672763614855,-10.9324456552921,13.837801839837212,-0.1370983681703848,25.67959368855181,3.620263460346173,0.12258045704232501,-3.1861445272332674,-9.036372243878787,0.5338640513003057,-2.755897722296666,-1.246936179069266,-0.037206131854560454,-3.1678644102566977,-3.9162415813716933,-2.030286371089069,0.5404400421349607,-3.8196729933245592,22.948198965501533],\"name\":\"prediction\"};\n",
       "  var data1 = {\"type\":\"scatter\",\"x\":[0.0,1.0,2.0,3.0,4.0,5.0,6.0,7.0,8.0,9.0,10.0,11.0,12.0,13.0,14.0,15.0,16.0,17.0,18.0,19.0,20.0,21.0,22.0,23.0,24.0,25.0,26.0,27.0,28.0,29.0,30.0,31.0,32.0,33.0,34.0,35.0,36.0,37.0,38.0,39.0,40.0,41.0,42.0,43.0,44.0,45.0,46.0,47.0,48.0,49.0,50.0,51.0,52.0,53.0,54.0,55.0,56.0,57.0,58.0,59.0,60.0,61.0,62.0,63.0,64.0,65.0,66.0,67.0,68.0,69.0,70.0,71.0,72.0,73.0,74.0,75.0,76.0,77.0,78.0,79.0,80.0,81.0,82.0,83.0,84.0,85.0,86.0,87.0,88.0,89.0,90.0,91.0,92.0,93.0,94.0,95.0,96.0,97.0,98.0,99.0,100.0,101.0,102.0,103.0,104.0,105.0,106.0,107.0,108.0,109.0,110.0,111.0,112.0,113.0,114.0,115.0,116.0,117.0,118.0,119.0,120.0,121.0,122.0,123.0,124.0,125.0,126.0,127.0,128.0,129.0,130.0,131.0,132.0,133.0,134.0,135.0,136.0,137.0,138.0,139.0,140.0,141.0,142.0,143.0,144.0,145.0,146.0,147.0,148.0,149.0],\"y\":[7.0887174,-6.6488336,1.3097657,-5.4677192,8.879597,0.5759764,6.9868772,-14.2752,-25.496883,2.4558209,-0.01585057,-9.1098026,-11.821141,1.4949945,2.8328359,-8.3596439,19.788724,1.8262313,-1.6278779,9.3569256,-6.3361141,-11.438209,2.26773,-6.2717687,16.664973,5.4564557,-16.601525,-0.19194773,7.3634771,-7.9847972,0.8413647,7.321542,-3.9400823,1.5507389,5.2635498,3.6535214,-7.4149324,4.565747,9.7424533,10.563553,-5.0929726,1.5522667,-3.5609573,2.5843997,-9.0392924,-5.0195118,5.7098848,10.216238,10.006393,-14.970309,-6.7806596,19.451004,-8.6291743,-1.133289,16.647087,-3.3443781,25.607553,-19.22561,3.079529,-9.2362868,-2.1666518,1.4661353,9.0010737,-4.2491447,0.78289671,-4.7843656,-6.3331345,-4.0905619,-3.5138303,5.2949746,14.33784,18.899257,6.2670923,21.943682,-3.9560745,-13.410109,-5.3756579,-3.1878678,8.7244855,-12.160641,20.711627,-11.141173,-0.18288778,-11.987174,-9.5474606,-1.5581771,-11.123535,-7.5211539,-4.341278,-11.073149,5.2470613,0.58115095,30.430512,0.53958871,-4.5455824,-4.7831224,3.1380058,-10.744844,0.53544639,-6.905279,1.584951,4.8820055,-5.5829683,-4.6698264,12.267529,-5.2155277,-15.379571,7.910482,11.691854,14.659047,8.5409437,-1.8453196,7.7448307,-8.2648927,-3.9104836,21.670256,-1.0840106,12.902442,-15.167126,0.58770455,5.4078014,24.530535,-7.1457525,-6.2579855,-3.1620106,0.90797673,5.2672431,-6.4154674,5.7287844,21.712374,-3.1466554,-6.0673208,-11.678548,13.809188,9.7245355,28.102968,8.8064694,-4.0375464,-9.2295978,-15.805793,-2.6921023,-0.49559519,2.985952,5.4103842,-4.9285353,1.9453618,-1.576797,6.0896994,-2.347801,21.458954],\"name\":\"actual\"};\n",
       "  var data2 = {\"type\":\"scatter\",\"x\":[0.0,1.0,2.0,3.0,4.0,5.0,6.0,7.0,8.0,9.0,10.0,11.0,12.0,13.0,14.0,15.0,16.0,17.0,18.0,19.0,20.0,21.0,22.0,23.0,24.0,25.0,26.0,27.0,28.0,29.0,30.0,31.0,32.0,33.0,34.0,35.0,36.0,37.0,38.0,39.0,40.0,41.0,42.0,43.0,44.0,45.0,46.0,47.0,48.0,49.0,50.0,51.0,52.0,53.0,54.0,55.0,56.0,57.0,58.0,59.0,60.0,61.0,62.0,63.0,64.0,65.0,66.0,67.0,68.0,69.0,70.0,71.0,72.0,73.0,74.0,75.0,76.0,77.0,78.0,79.0,80.0,81.0,82.0,83.0,84.0,85.0,86.0,87.0,88.0,89.0,90.0,91.0,92.0,93.0,94.0,95.0,96.0,97.0,98.0,99.0,100.0,101.0,102.0,103.0,104.0,105.0,106.0,107.0,108.0,109.0,110.0,111.0,112.0,113.0,114.0,115.0,116.0,117.0,118.0,119.0,120.0,121.0,122.0,123.0,124.0,125.0,126.0,127.0,128.0,129.0,130.0,131.0,132.0,133.0,134.0,135.0,136.0,137.0,138.0,139.0,140.0,141.0,142.0,143.0,144.0,145.0,146.0,147.0,148.0,149.0],\"y\":[0.0358694540591012,0.8698871189545404,0.5845569530040206,0.02483788270101374,0.8386639960170899,8.621825668715525E-4,6.32142114110896E-5,0.924572434995424,0.926632581800321,0.012279752660288253,0.006693148883371485,0.9405225717963206,0.9708545951154897,0.1447586277185068,1.6805992798056983E-4,0.9157040304733123,0.6065306597126334,0.08073101153652654,0.3720362394675189,0.23627629254557625,0.5395694021708627,0.9799017942566527,0.518901084372256,0.9966575356984042,0.7214035668204544,0.0625603119339052,0.9050722835780052,0.18554856608774836,7.464500806986971E-5,0.9954442543489731,4.481579359549882E-4,0.9487206370859963,0.15938567534907644,0.852483033909496,7.584369432224662E-4,0.0018497147789744706,6.2271792338713E-4,0.1658282169866277,6.872944199840505E-5,7.075218850367846E-5,0.0550850216246414,0.029077129071240396,7.883166267057374E-4,0.9809543255776412,0.7881642657748988,0.01649391573029012,0.33740714459035814,2.6159022656053226E-5,0.778446441880028,0.7038570341722729,0.0012563259494833947,0.5632569400480717,0.9599020555345451,6.562842718719411E-4,2.8045028414017158E-5,0.11341006462651149,0.49867896922911087,0.9690409792388232,0.011313007188307538,0.9677180118379617,0.8673489976258811,0.007519912584004396,3.468739483986025E-5,0.0033418781340221596,0.25294387911989225,9.452750046239527E-4,0.9954200164984007,0.834842639951463,0.22530967651941158,0.1612119576753095,3.0066753920443873E-5,0.5046845945563108,0.056078678012232056,0.6329205511875615,0.57989501981467,0.8620264287826591,0.5953380370706067,0.0023433566663659455,0.0032603592960290645,0.9851657136802023,0.6268634666123508,0.7920420232786541,0.9110057687986854,0.7163998663174969,0.4153839426458532,0.3741647535611445,0.008035613092311383,0.600981646102314,0.07694613094573559,0.835353212820926,0.9037855810444064,0.9606591201099389,0.45978811234079425,0.9350948835047961,0.025041197576962704,0.9432873278600286,0.06362131499174312,0.4120063602183623,0.9587647477747355,0.3710375893311019,0.007487124214459693,6.034945886901213E-4,0.9997030920182628,0.001051912332396775,0.18986338781706366,0.8346524569095028,0.9826314799621426,0.9529994572113372,4.63795390160469E-5,3.0733256745410677E-5,0.8352141007833658,0.03993861037308672,4.731111995020539E-5,0.557877232094702,9.077269117770627E-5,0.6155416254499254,0.28710229516578506,0.7392090691107293,0.8226579609957791,0.0022659684995129203,1.0157950538151006E-4,0.4707820290612002,0.9748462361701121,0.00411140766106955,0.9797680948903278,0.17063843303941223,0.9163150214393397,0.9670335040095356,0.8179817060910263,0.6108807086044488,0.17351120660653357,0.02149163210083657,0.9213256016434724,2.538411154164222E-5,0.10958278074704438,0.5374148474659285,1.0549595273138092E-4,0.8993085749705275,4.961664723440343E-4,0.8041311526178352,0.021630297363976588,0.3660748064168011,0.008126932929512507,0.9013785955199556,0.9405431141692279,0.002154132109803457,0.2889558584514575,0.06614031339292917,0.002322046648902499,0.5774277337485099],\"name\":\"RBOutput0\"};\n",
       "  var data3 = {\"type\":\"scatter\",\"x\":[0.0,1.0,2.0,3.0,4.0,5.0,6.0,7.0,8.0,9.0,10.0,11.0,12.0,13.0,14.0,15.0,16.0,17.0,18.0,19.0,20.0,21.0,22.0,23.0,24.0,25.0,26.0,27.0,28.0,29.0,30.0,31.0,32.0,33.0,34.0,35.0,36.0,37.0,38.0,39.0,40.0,41.0,42.0,43.0,44.0,45.0,46.0,47.0,48.0,49.0,50.0,51.0,52.0,53.0,54.0,55.0,56.0,57.0,58.0,59.0,60.0,61.0,62.0,63.0,64.0,65.0,66.0,67.0,68.0,69.0,70.0,71.0,72.0,73.0,74.0,75.0,76.0,77.0,78.0,79.0,80.0,81.0,82.0,83.0,84.0,85.0,86.0,87.0,88.0,89.0,90.0,91.0,92.0,93.0,94.0,95.0,96.0,97.0,98.0,99.0,100.0,101.0,102.0,103.0,104.0,105.0,106.0,107.0,108.0,109.0,110.0,111.0,112.0,113.0,114.0,115.0,116.0,117.0,118.0,119.0,120.0,121.0,122.0,123.0,124.0,125.0,126.0,127.0,128.0,129.0,130.0,131.0,132.0,133.0,134.0,135.0,136.0,137.0,138.0,139.0,140.0,141.0,142.0,143.0,144.0,145.0,146.0,147.0,148.0,149.0],\"y\":[0.3751032592133783,0.0019978812134186274,0.011130706322294823,0.454005912830642,1.6955541403765108E-5,0.9836663454457553,0.8901703903716677,0.0012223865146764113,0.001196395823418154,0.6065306597126334,0.7290903136965726,0.001026101601648201,8.684358045931585E-5,0.12579782662166827,0.970215386042661,0.0013366380155397878,2.1527338510679704E-6,0.21670836211467662,0.03264862107915853,0.06888036449180211,0.013991964927855646,5.726371261899198E-4,0.015527807820985869,3.519726040807654E-4,5.8251178585349535E-6,0.26319068496603587,0.0014790045135439232,0.09463737469147779,0.9065151058279594,3.7247985971525043E-4,0.9999871816955463,6.0135299745848686E-5,0.11315639134733103,1.9437241107511422E-5,0.9893562220211949,0.9238587427260153,0.9957053038004221,0.10815709942858143,0.8985147302846773,0.9013526158679593,0.2876653321041455,0.41988950075664444,0.9877718491180426,1.0712221453623147E-4,0.003559627291448989,0.5431849800046491,0.039140977391198616,0.7905121932612978,9.654354285750401E-6,0.005888127295925629,0.9597295212138814,1.470827719573694E-6,7.159930025171558E-5,0.9942963526603046,0.798982395878214,0.1609248344182507,8.17706573164479E-7,6.965959010936369E-4,0.6238126269816903,8.193815933597436E-5,2.2613104670224448E-5,0.7066790374063564,0.824315692613525,0.8476505043097613,0.062437819626253624,0.9788156727312655,1.661311885173546E-4,0.002599482759968812,0.07358586629318481,0.11170670488880578,0.8073703238641837,8.646677651348252E-7,0.28418021299003965,2.7077209855403767E-6,0.011399777334754705,0.002124916940278956,0.010530451628337769,0.8963903284099275,0.8513221955829662,5.104355228140301E-4,2.5692032139415788E-6,0.0034720949766586582,3.66156569178333E-5,0.00548396926951025,0.026144980735695083,0.03229086475999912,0.6936478915227011,0.010228040315038295,0.22517939234072942,0.0025900369437338437,3.364219457721583E-5,7.250193107537617E-5,5.651069037085875E-7,4.9619773290860775E-5,0.45223396236067614,9.931460317744649E-4,0.26001608172680846,0.026597602580080894,7.027782962435639E-5,0.03281798676263559,0.7075309041810218,0.9964501899370639,2.7711190254977946E-4,0.9723703320468403,0.0919917772897174,1.630677204277368E-5,5.40694213826842E-4,6.415099360784234E-5,0.8573835705430302,0.8099945411768419,1.639582452421016E-5,0.35260174675092154,0.8595715256551043,0.012753457779450769,0.9244656628312852,2.3285415139094164E-6,0.051418631621578996,6.807929249285025E-6,0.0028313318405245843,0.9005399705349845,0.9341012549071774,6.282592315484138E-7,9.390974707335865E-5,0.8152721868090509,1.0427584290532341E-4,0.10462426448887506,3.903287380797186E-5,8.093249062572981E-5,1.3903085510640371E-5,2.2359442807819048E-6,0.10259064378759461,0.485531108962412,0.0012637618102103372,0.7868299468751759,0.16620845180798285,1.1666650649950463E-6,0.9372224547209195,3.195842040391083E-5,0.9994882538485229,0.003208662798203561,0.48412813044568137,0.03367428134548033,0.6914094281685856,3.272276026786824E-5,5.3465445727982264E-5,0.9066390664993893,0.0508916325205503,0.2527422894050461,0.8975272605832297,1.667624694073918E-6],\"name\":\"RBOutput1\"};\n",
       "  var data4 = {\"type\":\"scatter\",\"x\":[0.0,1.0,2.0,3.0,4.0,5.0,6.0,7.0,8.0,9.0,10.0,11.0,12.0,13.0,14.0,15.0,16.0,17.0,18.0,19.0,20.0,21.0,22.0,23.0,24.0,25.0,26.0,27.0,28.0,29.0,30.0,31.0,32.0,33.0,34.0,35.0,36.0,37.0,38.0,39.0,40.0,41.0,42.0,43.0,44.0,45.0,46.0,47.0,48.0,49.0,50.0,51.0,52.0,53.0,54.0,55.0,56.0,57.0,58.0,59.0,60.0,61.0,62.0,63.0,64.0,65.0,66.0,67.0,68.0,69.0,70.0,71.0,72.0,73.0,74.0,75.0,76.0,77.0,78.0,79.0,80.0,81.0,82.0,83.0,84.0,85.0,86.0,87.0,88.0,89.0,90.0,91.0,92.0,93.0,94.0,95.0,96.0,97.0,98.0,99.0,100.0,101.0,102.0,103.0,104.0,105.0,106.0,107.0,108.0,109.0,110.0,111.0,112.0,113.0,114.0,115.0,116.0,117.0,118.0,119.0,120.0,121.0,122.0,123.0,124.0,125.0,126.0,127.0,128.0,129.0,130.0,131.0,132.0,133.0,134.0,135.0,136.0,137.0,138.0,139.0,140.0,141.0,142.0,143.0,144.0,145.0,146.0,147.0,148.0,149.0],\"y\":[0.7980975402009022,0.30064056256106614,0.6065306597126334,0.7134087464748153,0.0218986184717006,0.1505817382276351,0.030666784724570177,0.23844922908094865,0.23598265679913213,0.5519728971772202,0.4270053822800815,0.21895517010839058,0.05811089710532928,0.9999762134345752,0.05712366118125559,0.24892731027574447,0.005879986241323434,0.9538700102408786,0.8356092657684944,0.9608425265690026,0.6554183066111674,0.16324686319994833,0.6779231090878796,0.12648362843361033,0.011199036510870586,0.912692617138618,0.26123636903991443,0.9909908536524596,0.034153269656410926,0.13035281313156488,0.10339954976108078,0.04692687083044159,0.9989055077043586,0.023818097388387433,0.14008323797011385,0.22799367244367977,0.12517954638199996,0.997600807980255,0.03237752223734308,0.03299128164234772,0.8889018228194832,0.7500871854598473,0.1431784499227167,0.06554653144096666,0.3885840248532689,0.6182870089714213,0.8708689276644547,0.017107484985757704,0.015422204601308283,0.4782449348236157,0.18540272533475483,0.004574596437661208,0.05196304027112152,0.12900591499611452,0.01792632692164996,0.9906146733754521,0.003092836263432945,0.18044951594227424,0.534094040672097,0.056192128573724485,0.026129226490713295,0.4495722664988684,0.020662163949896402,0.30807400647504024,0.9480546348292054,0.15852819454714656,0.08396549718087067,0.3387009270773592,0.9686013898756989,0.9985833770510812,0.018782075311469536,0.0032108929714222477,0.8923536850615477,0.006831548625799069,0.6115870126959628,0.3092520653859002,0.5948482518615235,0.2577565426434856,0.3043470586800556,0.15381898996386317,0.006601455716638463,0.3844576057813342,0.034969424002041005,0.46487881660333125,0.7899552866335638,0.8334008054186718,0.46274319201106134,0.5887391885624874,0.9468794414726981,0.3381515203246516,0.033236784338561386,0.05234313784845699,0.0024110306959650636,0.04190388558772403,0.7153124844948952,0.21546767860374416,0.9156924486134357,0.7935557839183763,0.05140253550107844,0.8366439999549478,0.448712605545901,0.12294199020509013,0.11123479502941698,0.16820869023586016,0.9890864435884933,0.021377752411743854,0.15848068661620832,0.048737588879803465,0.025042897145988043,0.019059526763468327,0.021449754599688568,0.8219982449659861,0.025372756774510976,0.6355009261494382,0.03872942389343838,0.0061903559606621235,0.9188725221322677,0.012367828879768733,0.35178104716335434,0.2533516775027413,0.04161290178952887,0.0025900094657258493,0.06078718989579081,0.34070529871475175,0.06454601798257187,0.9963334619049381,0.0363326306329335,0.05579215486996047,0.019367848954615498,0.006028011209166809,0.9954646188234082,0.6796029624558848,0.24231058096619454,0.01676486371149077,0.9880475942011484,0.003922349093408032,0.042626637321462844,0.03222577182144535,0.10974802215700666,0.3715790143049766,0.6811041938807003,0.8417721387516095,0.465009704188547,0.0326875355710699,0.04379231257112996,0.24682616099824745,0.9171955706838066,0.9224786477061389,0.2565523080358707,0.004970592800528527],\"name\":\"RBOutput2\"};\n",
       "\n",
       "  var data = [data0, data1, data2, data3, data4];\n",
       "  var layout = {\"title\":\"GoodFitting Model Outputs vs Actual\"};\n",
       "\n",
       "  Plotly.plot('plot-1299780919', data, layout);\n",
       "})();\n",
       "});\n",
       "      "
      ]
     },
     "metadata": {},
     "output_type": "display_data"
    },
    {
     "data": {
      "text/plain": [
       "\u001b[36mres17\u001b[39m: \u001b[32mString\u001b[39m = \u001b[32m\"plot-1299780919\"\u001b[39m"
      ]
     },
     "execution_count": 18,
     "metadata": {},
     "output_type": "execute_result"
    }
   ],
   "source": [
    "plotLineGraphForRBFPredictionAndActualData(goodFitModel, allData, \"GoodFitting Model Outputs vs Actual\")"
   ]
  }
 ],
 "metadata": {
  "kernelspec": {
   "display_name": "Scala",
   "language": "scala",
   "name": "scala"
  },
  "language_info": {
   "codemirror_mode": "text/x-scala",
   "file_extension": ".scala",
   "mimetype": "text/x-scala",
   "name": "scala211",
   "nbconvert_exporter": "script",
   "pygments_lexer": "scala",
   "version": "2.11.8"
  }
 },
 "nbformat": 4,
 "nbformat_minor": 2
}
